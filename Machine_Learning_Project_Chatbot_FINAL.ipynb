{
  "cells": [
    {
      "cell_type": "code",
      "execution_count": 1,
      "metadata": {
        "id": "-uORcBKXaygx"
      },
      "outputs": [],
      "source": [
        "from sklearn.model_selection import train_test_split, GridSearchCV\n",
        "from sklearn.linear_model import LogisticRegression\n",
        "from sklearn.metrics import classification_report\n",
        "import matplotlib.pyplot as plt"
      ]
    },
    {
      "cell_type": "code",
      "execution_count": 2,
      "metadata": {
        "colab": {
          "base_uri": "https://localhost:8080/"
        },
        "id": "tKRcJJjba835",
        "outputId": "2ad251f4-599e-4390-d54f-0d7a422964ef"
      },
      "outputs": [
        {
          "output_type": "stream",
          "name": "stderr",
          "text": [
            "[nltk_data] Downloading package punkt to /root/nltk_data...\n",
            "[nltk_data]   Unzipping tokenizers/punkt.zip.\n"
          ]
        }
      ],
      "source": [
        "import json\n",
        "import random\n",
        "import pandas as pd\n",
        "import numpy as np\n",
        "import torch\n",
        "import torch.nn as nn\n",
        "from torch.utils.data import DataLoader,Dataset\n",
        "from gensim.models import Word2Vec\n",
        "\n",
        "import nltk\n",
        "nltk.download(\"punkt\")\n",
        "import nltk\n",
        "from nltk.tokenize import word_tokenize\n",
        "from nltk.corpus import stopwords\n",
        "from nltk.stem import PorterStemmer, WordNetLemmatizer\n",
        "from nltk.tokenize import word_tokenize\n",
        "from nltk.corpus import stopwords\n",
        "from nltk.stem import PorterStemmer, WordNetLemmatizer\n",
        "from sklearn.metrics import accuracy_score, classification_report\n"
      ]
    },
    {
      "cell_type": "code",
      "execution_count": 3,
      "metadata": {
        "id": "MculLuLda9W2"
      },
      "outputs": [],
      "source": [
        "from sklearn.svm import SVC\n",
        "from sklearn.model_selection import GridSearchCV, cross_val_score\n",
        "import string\n",
        "from nltk.tokenize import word_tokenize\n",
        "from nltk.stem import WordNetLemmatizer\n",
        "from sklearn.preprocessing import LabelEncoder\n",
        "import json\n",
        "from tensorflow.keras.models import Sequential\n",
        "from tensorflow.keras.layers import Embedding, LSTM, Dense\n",
        "from tensorflow.keras.optimizers import Adam\n",
        "from sklearn.metrics import precision_score, recall_score, f1_score"
      ]
    },
    {
      "cell_type": "code",
      "execution_count": 16,
      "metadata": {
        "id": "7k555bwTa9UN"
      },
      "outputs": [],
      "source": [
        "from tensorflow.keras.models import Sequential\n",
        "from tensorflow.keras.layers import Embedding, LSTM, Dense\n",
        "from tensorflow.keras.optimizers import Adam\n",
        "from tensorflow.keras.losses import SparseCategoricalCrossentropy\n",
        "from tensorflow.keras.metrics import SparseCategoricalAccuracy\n",
        "from keras.preprocessing.text import Tokenizer\n",
        "from keras.preprocessing.text import tokenizer_from_json\n",
        "from wordcloud import WordCloud\n",
        "import matplotlib.pyplot as plt\n",
        "from collections import Counter\n"
      ]
    },
    {
      "cell_type": "code",
      "execution_count": 5,
      "metadata": {
        "id": "roRRj7uSf-Z8"
      },
      "outputs": [],
      "source": [
        "from transformers import BertTokenizer, BertModel\n",
        "import re\n",
        "from sklearn.metrics.pairwise import cosine_similarity"
      ]
    },
    {
      "cell_type": "code",
      "execution_count": 6,
      "metadata": {
        "colab": {
          "base_uri": "https://localhost:8080/"
        },
        "id": "IUAr88Oca9SD",
        "outputId": "8ac6518d-98f7-4f72-c1bc-9332afe5d0e6"
      },
      "outputs": [
        {
          "output_type": "stream",
          "name": "stderr",
          "text": [
            "[nltk_data] Downloading package punkt to /root/nltk_data...\n",
            "[nltk_data]   Package punkt is already up-to-date!\n",
            "[nltk_data] Downloading package wordnet to /root/nltk_data...\n"
          ]
        },
        {
          "output_type": "execute_result",
          "data": {
            "text/plain": [
              "True"
            ]
          },
          "metadata": {},
          "execution_count": 6
        }
      ],
      "source": [
        "nltk.download(\"punkt\")\n",
        "nltk.download(\"wordnet\")"
      ]
    },
    {
      "cell_type": "code",
      "execution_count": 7,
      "metadata": {
        "id": "RZ86EKH0bO4t"
      },
      "outputs": [],
      "source": [
        "# Initialize lemmatizer\n",
        "lemmatizer = WordNetLemmatizer()"
      ]
    },
    {
      "cell_type": "code",
      "execution_count": 8,
      "metadata": {
        "id": "HjKgiaxdbO2h"
      },
      "outputs": [],
      "source": [
        "# load the data and responses from intents.json\n",
        "with open(\"/content/intents.json\", \"r\") as f:\n",
        "    intents_data = json.load(f)\n"
      ]
    },
    {
      "cell_type": "code",
      "execution_count": 9,
      "metadata": {
        "id": "eXVWhfA8bO0h"
      },
      "outputs": [],
      "source": [
        "patterns = []\n",
        "responses = []\n",
        "tags = []"
      ]
    },
    {
      "cell_type": "code",
      "source": [
        "patterns[:1],responses[:1]"
      ],
      "metadata": {
        "colab": {
          "base_uri": "https://localhost:8080/"
        },
        "id": "xW7wAsH3qEop",
        "outputId": "58fd5299-c120-4609-a1c4-1ddd2d069fa0"
      },
      "execution_count": 82,
      "outputs": [
        {
          "output_type": "execute_result",
          "data": {
            "text/plain": [
              "(['What is linear regression?'],\n",
              " ['Linear regression is a statistical method used to model the relationship between two variables.'])"
            ]
          },
          "metadata": {},
          "execution_count": 82
        }
      ]
    },
    {
      "cell_type": "code",
      "execution_count": 10,
      "metadata": {
        "id": "JQCgDWmSbOxv"
      },
      "outputs": [],
      "source": [
        "# Iterate over intents in the data\n",
        "for intent in intents_data['intents']:\n",
        "    # Iterate over patterns in each intent\n",
        "    for i, pattern in enumerate(intent['patterns']):\n",
        "        # Append pattern to patterns list\n",
        "        patterns.append(pattern)\n",
        "        # Append response corresponding to the current pattern\n",
        "        responses.append(intent['responses'][i])\n",
        "        # Append tag to tags list\n",
        "        tags.append(intent['tag'])"
      ]
    },
    {
      "cell_type": "code",
      "execution_count": 11,
      "metadata": {
        "colab": {
          "base_uri": "https://localhost:8080/"
        },
        "id": "0xRtLRv9nYFG",
        "outputId": "cce4d5f2-0081-4346-fc92-5309c41b5bd3"
      },
      "outputs": [
        {
          "output_type": "stream",
          "name": "stdout",
          "text": [
            "Tags: linear regression\n",
            "Patterns: What is linear regression?\n",
            "Responses: Linear regression is a statistical method used to model the relationship between two variables.\n",
            "length of tags is 552\n",
            "length of Patterns is 552\n",
            "length of Responses is 552\n"
          ]
        }
      ],
      "source": [
        "# Print the first few elements of each list for verification\n",
        "print(\"Tags:\", tags[0])\n",
        "print(\"Patterns:\", patterns[0])\n",
        "print(\"Responses:\", responses[0])\n",
        "print(f\"length of tags is {len(tags)}\")\n",
        "print(f\"length of Patterns is {len(patterns)}\")\n",
        "print(f\"length of Responses is {len(responses)}\")"
      ]
    },
    {
      "cell_type": "markdown",
      "source": [
        "## Data Visualization"
      ],
      "metadata": {
        "id": "zW-vjaFU2CLx"
      }
    },
    {
      "cell_type": "markdown",
      "source": [
        "## Data Visualization - Word CLoud"
      ],
      "metadata": {
        "id": "7neE_vUp2wuL"
      }
    },
    {
      "cell_type": "code",
      "source": [
        "# Join all patterns and responses into single strings\n",
        "all_patterns_text = ' '.join(patterns)\n",
        "all_responses_text = ' '.join(responses)\n"
      ],
      "metadata": {
        "id": "2oISeo0_2CBz"
      },
      "execution_count": 13,
      "outputs": []
    },
    {
      "cell_type": "code",
      "source": [
        "# Generate word clouds for patterns\n",
        "pattern_wordcloud = WordCloud(width=800, height=400, background_color='white').generate(all_patterns_text)\n",
        "\n",
        "# Generate word clouds for responses\n",
        "response_wordcloud = WordCloud(width=800, height=400, background_color='white').generate(all_responses_text)"
      ],
      "metadata": {
        "id": "tXUi7v1Z2B8w"
      },
      "execution_count": 14,
      "outputs": []
    },
    {
      "cell_type": "code",
      "source": [
        "# Plot the word clouds\n",
        "plt.figure(figsize=(12, 6))\n",
        "plt.subplot(1, 2, 1)\n",
        "plt.imshow(pattern_wordcloud, interpolation='bilinear')\n",
        "plt.title('Word Cloud for Patterns')\n",
        "plt.axis('off')\n",
        "\n",
        "plt.subplot(1, 2, 2)\n",
        "plt.imshow(response_wordcloud, interpolation='bilinear')\n",
        "plt.title('Word Cloud for Responses')\n",
        "plt.axis('off')\n",
        "\n",
        "plt.show()"
      ],
      "metadata": {
        "colab": {
          "base_uri": "https://localhost:8080/",
          "height": 270
        },
        "id": "wRNyS0Ie2B3_",
        "outputId": "e5700189-8b33-4011-946c-19df360415c2"
      },
      "execution_count": 15,
      "outputs": [
        {
          "output_type": "display_data",
          "data": {
            "text/plain": [
              "<Figure size 1200x600 with 2 Axes>"
            ],
            "image/png": "[encoded data removed]"
          },
          "metadata": {}
        }
      ]
    },
    {
      "cell_type": "markdown",
      "source": [
        "## Data Visualization - Frequency Count"
      ],
      "metadata": {
        "id": "e-UKXs9i202l"
      }
    },
    {
      "cell_type": "code",
      "source": [
        "# Tokenize the patterns and responses\n",
        "pattern_tokens = [token for pattern in patterns for token in pattern.split()]\n",
        "response_tokens = [token for response in responses for token in response.split()]"
      ],
      "metadata": {
        "id": "6iApNLXX2B1I"
      },
      "execution_count": 18,
      "outputs": []
    },
    {
      "cell_type": "code",
      "source": [
        "# Calculate word frequency\n",
        "pattern_word_freq = Counter(pattern_tokens)\n",
        "response_word_freq = Counter(response_tokens)"
      ],
      "metadata": {
        "id": "6V5gMwsQ2Byz"
      },
      "execution_count": 19,
      "outputs": []
    },
    {
      "cell_type": "code",
      "source": [
        "# Get top 50 most frequent words for patterns and responses\n",
        "top_pattern_words = pattern_word_freq.most_common(70)\n",
        "top_response_words = response_word_freq.most_common(70)"
      ],
      "metadata": {
        "id": "CKIx53ND38WR"
      },
      "execution_count": 25,
      "outputs": []
    },
    {
      "cell_type": "code",
      "source": [
        "# Plot word frequency for patterns\n",
        "plt.figure(figsize=(12, 6))\n",
        "plt.bar([word[0] for word in top_pattern_words], [count[1] for count in top_pattern_words])\n",
        "plt.xlabel('Words')\n",
        "plt.ylabel('Frequency')\n",
        "plt.title('Top 50 Word Frequency for Patterns')\n",
        "plt.xticks(rotation=90)\n",
        "plt.show()"
      ],
      "metadata": {
        "colab": {
          "base_uri": "https://localhost:8080/",
          "height": 651
        },
        "id": "M-VVHGUK2BwM",
        "outputId": "b335894a-b70d-4334-f6fe-5c4d5535537d"
      },
      "execution_count": 26,
      "outputs": [
        {
          "output_type": "display_data",
          "data": {
            "text/plain": [
              "<Figure size 1200x600 with 1 Axes>"
            ],
            "image/png": "[encoded data removed]"
          },
          "metadata": {}
        }
      ]
    },
    {
      "cell_type": "code",
      "source": [
        "# Plot word frequency for responses\n",
        "plt.figure(figsize=(12, 6))\n",
        "plt.bar([word[0] for word in top_response_words], [count[1] for count in top_response_words])\n",
        "plt.xlabel('Words')\n",
        "plt.ylabel('Frequency')\n",
        "plt.title('Top 50 Word Frequency for Responses')\n",
        "plt.xticks(rotation=90)\n",
        "plt.show()"
      ],
      "metadata": {
        "colab": {
          "base_uri": "https://localhost:8080/",
          "height": 651
        },
        "id": "wFCUwVLl2Bt5",
        "outputId": "30e54ea4-510f-4193-df2e-d7e27ebe38e4"
      },
      "execution_count": 27,
      "outputs": [
        {
          "output_type": "display_data",
          "data": {
            "text/plain": [
              "<Figure size 1200x600 with 1 Axes>"
            ],
            "image/png": "[encoded data removed]"
          },
          "metadata": {}
        }
      ]
    },
    {
      "cell_type": "markdown",
      "source": [
        "## Data Visualization - Topic Modeling Analysis for Patterns:\n"
      ],
      "metadata": {
        "id": "FtFAeHkK_ZJJ"
      }
    },
    {
      "cell_type": "code",
      "source": [
        "# Import necessary libraries\n",
        "from sklearn.feature_extraction.text import CountVectorizer\n",
        "from sklearn.decomposition import LatentDirichletAllocation\n",
        "import matplotlib.pyplot as plt"
      ],
      "metadata": {
        "id": "-cxRJRK_qsgx"
      },
      "execution_count": 83,
      "outputs": []
    },
    {
      "cell_type": "code",
      "source": [
        "def topic_modeling_analysis(text_series, num_topics=10):\n",
        "    \"\"\"\n",
        "    Perform topic modeling analysis using Latent Dirichlet Allocation (LDA) on the text data.\n",
        "\n",
        "    Parameters:\n",
        "    - text_series: List of text data\n",
        "    - num_topics: Number of topics to identify (default is 15)\n",
        "    \"\"\"\n",
        "    # Convert text data to document-term matrix\n",
        "    vectorizer = CountVectorizer()\n",
        "    dtm = vectorizer.fit_transform(text_series)\n",
        "\n",
        "    # Perform LDA\n",
        "    lda_model = LatentDirichletAllocation(n_components=num_topics, random_state=42)\n",
        "    lda_model.fit(dtm)\n",
        "\n",
        "    # Get list of feature names (words)\n",
        "    feature_names = vectorizer.get_feature_names_out()\n",
        "\n",
        "    # Visualize topics\n",
        "    plt.figure(figsize=(10, 6))\n",
        "    for topic_idx, topic in enumerate(lda_model.components_):\n",
        "        top_words_idx = topic.argsort()[:-11:-1]  # Top 10 words for each topic\n",
        "        top_words = [feature_names[i] for i in top_words_idx]\n",
        "        plt.barh(range(len(top_words)), topic[top_words_idx], align='center', alpha=0.7, label=f'Topic {topic_idx}')\n",
        "        plt.yticks(range(len(top_words)), top_words)\n",
        "    plt.xlabel('Word Importance')\n",
        "    plt.ylabel('Word')\n",
        "    plt.title('Top Words in Each Topic (Patterns)')\n",
        "    plt.legend()\n",
        "    plt.show()"
      ],
      "metadata": {
        "id": "uKfQvMOaqseR"
      },
      "execution_count": 98,
      "outputs": []
    },
    {
      "cell_type": "code",
      "source": [
        "# Call the function with patterns data\n",
        "topic_modeling_analysis(patterns)"
      ],
      "metadata": {
        "colab": {
          "base_uri": "https://localhost:8080/",
          "height": 564
        },
        "id": "rq7_jbsvqsb-",
        "outputId": "f8bc376d-b2bb-4d87-cd56-b997008dd6c9"
      },
      "execution_count": 99,
      "outputs": [
        {
          "output_type": "display_data",
          "data": {
            "text/plain": [
              "<Figure size 1000x600 with 1 Axes>"
            ],
            "image/png": "[encoded data removed]"
          },
          "metadata": {}
        }
      ]
    },
    {
      "cell_type": "markdown",
      "source": [
        "## Call the function with responses data\n"
      ],
      "metadata": {
        "id": "lmWRCib0rQrs"
      }
    },
    {
      "cell_type": "code",
      "source": [
        "topic_modeling_analysis(responses)"
      ],
      "metadata": {
        "colab": {
          "base_uri": "https://localhost:8080/",
          "height": 564
        },
        "id": "KmY4UIUHrPSG",
        "outputId": "28d96f12-5c21-4e40-bbb9-cf323a367724"
      },
      "execution_count": 100,
      "outputs": [
        {
          "output_type": "display_data",
          "data": {
            "text/plain": [
              "<Figure size 1000x600 with 1 Axes>"
            ],
            "image/png": "[encoded data removed]"
          },
          "metadata": {}
        }
      ]
    },
    {
      "cell_type": "code",
      "source": [
        "from transformers import BertTokenizer,BertModel\n",
        "# Load pre-trained BERT tokenizer and model\n",
        "tokenizer = BertTokenizer.from_pretrained('bert-base-uncased')\n",
        "model = BertModel.from_pretrained('bert-base-uncased')"
      ],
      "metadata": {
        "colab": {
          "base_uri": "https://localhost:8080/",
          "height": 304,
          "referenced_widgets": [
            "23400ebecf274491ab45f6269ba49f90",
            "3c14163ecc6241a4a7fba9f2b4bbe295",
            "eebd1dc7139b4da2b56de4ac8c5668d4",
            "3a6c2aa7aba6400daafcaba4d3d227b0",
            "940f5e9120a545c1ab2092f871b5555f",
            "51dd5e211f7b412cb6ed5c851b702787",
            "b60546aec3af42499553e2f3d5eefb19",
            "4972b161aceb4ee9b3d3b018943c7912",
            "dc14907fb27842bea181aa1f1676732a",
            "92b544a9b1074ac3acc2c370ffa0d7dc",
            "2757c1b4c5534c5ea7c0658e53bde7a1",
            "12b45662d6ea4e3da34e000ea9530730",
            "5c01c64bf2cc40c6b0ecacd96c6da65b",
            "4ea00408256a4d2bbfd9e5d92b51ea60",
            "39033e358d27456eb2ba5b19a2d29dcc",
            "b78dfb3a6093485f8172e533d8a61313",
            "6655c6caa3bb42269f2d575d295732fe",
            "e0d96567bf6448b5b69f2aa7823c93b9",
            "351f9f8162cc43bb9ac7b4100f550b25",
            "68578623160b438aaea5c5e67794834b",
            "97fcfdc9246b4f59a23754b3e31f00a3",
            "28d229c4266c4490a5c83ecd33df2b4e",
            "df7262f327234f46b50daed30ca8f871",
            "b01036452387459e969ec9b71685720d",
            "2ac8e374fb904aaeb1387564de7788eb",
            "b63db281d2ab4d56ac3d1742e8321486",
            "f14644de06554964aa1339f50691b191",
            "f7e51d7f42be4441a5bbcf0f6e9dc7dd",
            "91a9270ac73a4fc290beeb23837a58a7",
            "d79e3e79393b48f696c6eb92a996672b",
            "a1bfc4c89e054932817bbd6c1e2450b9",
            "31fb3763e9294836b8e8923ec947bedb",
            "99c00c92664642ab82c153de777d1b60",
            "c312846ed70744bc84b18e2c8ed485a5",
            "a46d2e24599646bcb6b0bb80cbeb120c",
            "7241fe25158c41eea4587952390bdb42",
            "15b41be8f08646f9aa7f8b7bc536014b",
            "63665a5a0142492b83e376ba68ed6489",
            "b631bb13a81b41e0a3fb284bfc10116e",
            "b73802f8328b4df3b2b1dea86b2ce212",
            "8a27e04d41f64404ae043b17e3581b62",
            "da5af254d8bf47cbb18bcdc6c529a141",
            "23f9747c2cf84b9098f928e738355b51",
            "0051169eadff489bb852f756af398dde",
            "ea92e7decbea4d68a9ba33cc7d234f7e",
            "cbb59fd4c15f46d8af9a56f424484678",
            "a103e084e8bc4951ad95ae3f03617a16",
            "af38c7cc24164347ab89a87ac5ec0158",
            "dbc4f7a27c964a3584c55144504e423f",
            "c26135529b5847438c1321dd588dc993",
            "2066c3ad823646159026af4c483ca51d",
            "7d7fc3480f4d4889bbe38f0a0e0ebc97",
            "cfc3d9557dc14622a706a969904be4a0",
            "c5b47d33a1ba40ffbaba5c882dc276ae",
            "8e66f971f10c4a60a676490673cad045"
          ]
        },
        "id": "35jKUB6U_lbt",
        "outputId": "fe31f916-3a01-4a79-dd4a-51a326a5a684"
      },
      "execution_count": 69,
      "outputs": [
        {
          "output_type": "stream",
          "name": "stderr",
          "text": [
            "/usr/local/lib/python3.10/dist-packages/huggingface_hub/utils/_token.py:88: UserWarning: \n",
            "The secret `HF_TOKEN` does not exist in your Colab secrets.\n",
            "To authenticate with the Hugging Face Hub, create a token in your settings tab (https://huggingface.co/settings/tokens), set it as secret in your Google Colab and restart your session.\n",
            "You will be able to reuse this secret in all of your notebooks.\n",
            "Please note that authentication is recommended but still optional to access public models or datasets.\n",
            "  warnings.warn(\n"
          ]
        },
        {
          "output_type": "display_data",
          "data": {
            "text/plain": [
              "tokenizer_config.json:   0%|          | 0.00/48.0 [00:00<?, ?B/s]"
            ],
            "application/vnd.jupyter.widget-view+json": {
              "version_major": 2,
              "version_minor": 0,
              "model_id": "23400ebecf274491ab45f6269ba49f90"
            }
          },
          "metadata": {}
        },
        {
          "output_type": "display_data",
          "data": {
            "text/plain": [
              "vocab.txt:   0%|          | 0.00/232k [00:00<?, ?B/s]"
            ],
            "application/vnd.jupyter.widget-view+json": {
              "version_major": 2,
              "version_minor": 0,
              "model_id": "12b45662d6ea4e3da34e000ea9530730"
            }
          },
          "metadata": {}
        },
        {
          "output_type": "display_data",
          "data": {
            "text/plain": [
              "tokenizer.json:   0%|          | 0.00/466k [00:00<?, ?B/s]"
            ],
            "application/vnd.jupyter.widget-view+json": {
              "version_major": 2,
              "version_minor": 0,
              "model_id": "df7262f327234f46b50daed30ca8f871"
            }
          },
          "metadata": {}
        },
        {
          "output_type": "display_data",
          "data": {
            "text/plain": [
              "config.json:   0%|          | 0.00/570 [00:00<?, ?B/s]"
            ],
            "application/vnd.jupyter.widget-view+json": {
              "version_major": 2,
              "version_minor": 0,
              "model_id": "c312846ed70744bc84b18e2c8ed485a5"
            }
          },
          "metadata": {}
        },
        {
          "output_type": "display_data",
          "data": {
            "text/plain": [
              "model.safetensors:   0%|          | 0.00/440M [00:00<?, ?B/s]"
            ],
            "application/vnd.jupyter.widget-view+json": {
              "version_major": 2,
              "version_minor": 0,
              "model_id": "ea92e7decbea4d68a9ba33cc7d234f7e"
            }
          },
          "metadata": {}
        }
      ]
    },
    {
      "cell_type": "code",
      "source": [
        "from sklearn.metrics.pairwise import cosine_similarity\n",
        "import seaborn as sns\n",
        "import matplotlib.pyplot as plt"
      ],
      "metadata": {
        "id": "i8vsBfX8_Y-P"
      },
      "execution_count": 67,
      "outputs": []
    },
    {
      "cell_type": "code",
      "source": [
        "import nltk\n",
        "nltk.download('stopwords')"
      ],
      "metadata": {
        "colab": {
          "base_uri": "https://localhost:8080/"
        },
        "id": "6siejccM_8FJ",
        "outputId": "af945840-aaf2-4073-b002-3b684da5c3ac"
      },
      "execution_count": 75,
      "outputs": [
        {
          "output_type": "stream",
          "name": "stderr",
          "text": [
            "[nltk_data] Downloading package stopwords to /root/nltk_data...\n",
            "[nltk_data]   Unzipping corpora/stopwords.zip.\n"
          ]
        },
        {
          "output_type": "execute_result",
          "data": {
            "text/plain": [
              "True"
            ]
          },
          "metadata": {},
          "execution_count": 75
        }
      ]
    },
    {
      "cell_type": "code",
      "source": [
        "from transformers import BertTokenizer,BertModel\n",
        "# Load pre-trained BERT tokenizer and model\n",
        "tokenizer = BertTokenizer.from_pretrained('bert-base-uncased')\n",
        "model = BertModel.from_pretrained('bert-base-uncased')"
      ],
      "metadata": {
        "id": "B79W_QVd_QYU"
      },
      "execution_count": null,
      "outputs": []
    },
    {
      "cell_type": "code",
      "execution_count": 79,
      "metadata": {
        "id": "K4urOe8jbOsZ"
      },
      "outputs": [],
      "source": []
    },
    {
      "cell_type": "code",
      "execution_count": 105,
      "metadata": {
        "id": "ER4m4jxcbOp_"
      },
      "outputs": [],
      "source": [
        "# Define preprocessing function\n",
        "def preprocess_sentence(sentence):\n",
        "    # Remove punctuation and special characters\n",
        "    sentence = re.sub(r'[^\\w\\s]', '', sentence)\n",
        "    # Optionally remove stopwords and perform lemmatization\n",
        "    stop_words = set(stopwords.words('english'))\n",
        "    wordnet_lemmatizer = WordNetLemmatizer()\n",
        "    tokens = nltk.word_tokenize(sentence)\n",
        "    tokens = [wordnet_lemmatizer.lemmatize(token) for token in tokens if token.lower() not in stop_words]\n",
        "\n",
        "    return ' '.join(tokens)"
      ]
    },
    {
      "cell_type": "code",
      "execution_count": 106,
      "metadata": {
        "id": "Yw8J7GmgbOnc"
      },
      "outputs": [],
      "source": [
        "def mean_pooling(token_embeddings, attention_mask):\n",
        "    # Mask padding tokens\n",
        "    mask = attention_mask.unsqueeze(-1).expand(token_embeddings.size()).float()\n",
        "    masked_embeddings = token_embeddings * mask\n",
        "    # Sum embeddings across tokens\n",
        "    summed = torch.sum(masked_embeddings, 1)\n",
        "    # Calculate mean embeddings\n",
        "    summed_mask = torch.clamp(mask.sum(1), min=1e-9)\n",
        "    mean_pooled = summed / summed_mask\n",
        "    return mean_pooled"
      ]
    },
    {
      "cell_type": "code",
      "execution_count": 107,
      "metadata": {
        "id": "wvzYx3b-ll0l"
      },
      "outputs": [],
      "source": [
        "def generate_bert_embeddings(texts):\n",
        "    bert_embeddings = []\n",
        "    for text in texts:\n",
        "        # Preprocess the text\n",
        "        preprocessed_text = preprocess_sentence(text)\n",
        "\n",
        "        # Tokenize the preprocessed text\n",
        "        inputs = tokenizer(preprocessed_text, return_tensors='pt', padding=True, truncation=True)\n",
        "\n",
        "        # Pass the tokenized input to the BERT model\n",
        "        with torch.no_grad():\n",
        "            outputs = model(**inputs)\n",
        "\n",
        "        # Perform mean pooling over the token embeddings\n",
        "        mean_pooled_embedding = mean_pooling(outputs.last_hidden_state, inputs['attention_mask'])\n",
        "\n",
        "        # Append the mean pooled embedding to the list\n",
        "        bert_embeddings.append(mean_pooled_embedding)\n",
        "\n",
        "    # Convert list of tensors to a single tensor\n",
        "    bert_embeddings_tensor = torch.cat(bert_embeddings, dim=0)\n",
        "    return bert_embeddings_tensor"
      ]
    },
    {
      "cell_type": "code",
      "execution_count": 108,
      "metadata": {
        "id": "BgJYbkzebOkj"
      },
      "outputs": [],
      "source": [
        "# Generate BERT embeddings for patterns\n",
        "bert_embeddings_patterns = generate_bert_embeddings(patterns)"
      ]
    },
    {
      "cell_type": "code",
      "execution_count": 109,
      "metadata": {
        "colab": {
          "base_uri": "https://localhost:8080/"
        },
        "id": "W21eEVCpmSCx",
        "outputId": "030aa4ba-19fb-4bac-ef31-49f0e33df99f"
      },
      "outputs": [
        {
          "output_type": "execute_result",
          "data": {
            "text/plain": [
              "(552,\n",
              " 'Linear regression is a statistical method used to model the relationship between two variables.')"
            ]
          },
          "metadata": {},
          "execution_count": 109
        }
      ],
      "source": [
        "len(responses), responses[0]"
      ]
    },
    {
      "cell_type": "code",
      "execution_count": 110,
      "metadata": {
        "id": "EzWKfQAya9P2"
      },
      "outputs": [],
      "source": [
        "# Generate BERT embeddings for responses\n",
        "bert_embeddings_responses = generate_bert_embeddings(responses)"
      ]
    },
    {
      "cell_type": "code",
      "execution_count": 111,
      "metadata": {
        "id": "9l6de6ywa9NU",
        "colab": {
          "base_uri": "https://localhost:8080/"
        },
        "outputId": "84bae572-ec84-4c0c-c3e7-06fb5c490524"
      },
      "outputs": [
        {
          "output_type": "execute_result",
          "data": {
            "text/plain": [
              "(torch.Size([552, 768]), torch.Size([552, 768]))"
            ]
          },
          "metadata": {},
          "execution_count": 111
        }
      ],
      "source": [
        "bert_embeddings_patterns.shape,bert_embeddings_responses.shape"
      ]
    },
    {
      "cell_type": "code",
      "execution_count": 112,
      "metadata": {
        "id": "n9aTBP06a9K-"
      },
      "outputs": [],
      "source": [
        "# Split the data into training and testing sets\n",
        "X_train, X_test, y_train, y_test = train_test_split(bert_embeddings_patterns, bert_embeddings_responses, test_size=0.2, random_state=95)\n"
      ]
    },
    {
      "cell_type": "code",
      "execution_count": 23,
      "metadata": {
        "colab": {
          "base_uri": "https://localhost:8080/"
        },
        "id": "J3WBVPr-a9Iq",
        "outputId": "5dd3453b-6113-4046-f1cc-e2b28b25da77"
      },
      "outputs": [
        {
          "output_type": "stream",
          "name": "stdout",
          "text": [
            "X_train shape: torch.Size([441, 768])\n",
            "X_test shape: torch.Size([111, 768])\n",
            "y_train shape: torch.Size([441, 768])\n",
            "y_test shape: torch.Size([111, 768])\n"
          ]
        }
      ],
      "source": [
        "# Print the shapes to verify\n",
        "print(\"X_train shape:\", X_train.shape)\n",
        "print(\"X_test shape:\", X_test.shape)\n",
        "print(\"y_train shape:\", y_train.shape)\n",
        "print(\"y_test shape:\", y_test.shape)"
      ]
    },
    {
      "cell_type": "markdown",
      "metadata": {
        "id": "OwxJvmJTtwqR"
      },
      "source": [
        "## Logistic Regression"
      ]
    },
    {
      "cell_type": "code",
      "execution_count": null,
      "metadata": {
        "id": "-ZtDL2YpynVB"
      },
      "outputs": [],
      "source": [
        "from sklearn.model_selection import GridSearchCV\n",
        "from sklearn.metrics import classification_report, confusion_matrix\n",
        "import matplotlib.pyplot as plt\n",
        "import seaborn as sns"
      ]
    },
    {
      "cell_type": "code",
      "execution_count": null,
      "metadata": {
        "id": "oj87V1LWlIjQ"
      },
      "outputs": [],
      "source": [
        "# Convert BERT embeddings to 1D arrays\n",
        "y_train_flat = np.argmax(y_train, axis=1)\n",
        "y_test_flat = np.argmax(y_test, axis=1)"
      ]
    },
    {
      "cell_type": "code",
      "execution_count": null,
      "metadata": {
        "id": "_0rLQgUc27mh"
      },
      "outputs": [],
      "source": [
        "def train_best_model(X_train, y_train):\n",
        "    # Define hyperparameters to tune\n",
        "    param_grid = {\n",
        "        'C': [0.001, 0.01, 0.1, 1,100],  # Regularization parameter\n",
        "        'penalty': ['l2']  # Penalty (L2)\n",
        "    }\n",
        "\n",
        "    # Initialize GridSearchCV with accuracy and F1-score as scoring metrics\n",
        "    grid_search = GridSearchCV(LogisticRegression(solver='lbfgs', max_iter = 1000), param_grid, cv=3, scoring=['accuracy', 'f1'], n_jobs=-1, refit='f1')\n",
        "\n",
        "    # Perform hyperparameter tuning\n",
        "    grid_search.fit(X_train, y_train)\n",
        "\n",
        "    # Best hyperparameters\n",
        "    best_params = grid_search.best_params_\n",
        "    print(\"Best Hyperparameters:\", best_params)\n",
        "\n",
        "    # Return the best model\n",
        "    return grid_search.best_estimator_"
      ]
    },
    {
      "cell_type": "code",
      "source": [
        "def get_best_response(user_input, patterns, responses, bert_embeddings_patterns, bert_embeddings_responses, model=None):\n",
        "    # Preprocess user input\n",
        "    preprocessed_user_input = preprocess_sentence(user_input)\n",
        "\n",
        "    # Generate BERT embedding for user input\n",
        "    user_input_embedding = generate_bert_embeddings([preprocessed_user_input])\n",
        "\n",
        "    # Calculate similarity scores with patterns\n",
        "    similarity_scores = cosine_similarity(user_input_embedding, bert_embeddings_patterns)\n",
        "\n",
        "    # Find index of pattern with highest similarity\n",
        "    best_pattern_index = np.argmax(similarity_scores)\n",
        "\n",
        "    # Retrieve response corresponding to the best pattern\n",
        "    best_response = responses[best_pattern_index]\n",
        "\n",
        "    return best_response"
      ],
      "metadata": {
        "id": "F3idEVD_8wyu"
      },
      "execution_count": null,
      "outputs": []
    },
    {
      "cell_type": "code",
      "execution_count": null,
      "metadata": {
        "id": "qPhboefh27kB"
      },
      "outputs": [],
      "source": [
        "def SONI_chatbot(model):\n",
        "    print(\"SONI: Hi! I'm SONI, your chatbot. Ask me any question or type 'exit' to end the conversation.\")\n",
        "\n",
        "    # SONI chatbot interaction\n",
        "    while True:\n",
        "        user_input = input(\"You: \").strip().lower()\n",
        "\n",
        "        if user_input == 'exit':\n",
        "            print(\"SONI: Goodbye! Have a great day!\")\n",
        "            break\n",
        "\n",
        "        best_response = get_best_response(user_input, patterns, responses, bert_embeddings_patterns, bert_embeddings_responses, model=model)\n",
        "        print(\"SONI:\", best_response)"
      ]
    },
    {
      "cell_type": "code",
      "execution_count": null,
      "metadata": {
        "colab": {
          "base_uri": "https://localhost:8080/"
        },
        "id": "_eAwqlqF27hm",
        "outputId": "6b167b42-cfea-475c-cb46-0ac6d7f97a11"
      },
      "outputs": [
        {
          "output_type": "stream",
          "name": "stderr",
          "text": [
            "/usr/local/lib/python3.10/dist-packages/sklearn/model_selection/_split.py:700: UserWarning: The least populated class in y has only 1 members, which is less than n_splits=3.\n",
            "  warnings.warn(\n",
            "/usr/local/lib/python3.10/dist-packages/sklearn/model_selection/_search.py:952: UserWarning: One or more of the test scores are non-finite: [nan nan nan nan nan]\n",
            "  warnings.warn(\n"
          ]
        },
        {
          "output_type": "stream",
          "name": "stdout",
          "text": [
            "Best Hyperparameters: {'C': 0.001, 'penalty': 'l2'}\n"
          ]
        }
      ],
      "source": [
        "# Train the best model\n",
        "best_model = train_best_model(X_train, y_train_flat)"
      ]
    },
    {
      "cell_type": "code",
      "execution_count": null,
      "metadata": {
        "id": "astX6vO327fN"
      },
      "outputs": [],
      "source": [
        "# Predict on the test set using the best model\n",
        "y_pred = best_model.predict(X_test)"
      ]
    },
    {
      "cell_type": "code",
      "execution_count": null,
      "metadata": {
        "colab": {
          "base_uri": "https://localhost:8080/"
        },
        "id": "fBT5yEo-27cm",
        "outputId": "f97bb6f9-cdbc-465c-dcad-ef363e7ec208"
      },
      "outputs": [
        {
          "output_type": "stream",
          "name": "stdout",
          "text": [
            "Classification Report:\n",
            "              precision    recall  f1-score   support\n",
            "\n",
            "          55       0.00      0.00      0.00        15\n",
            "         123       0.60      1.00      0.75        67\n",
            "         181       0.00      0.00      0.00         3\n",
            "         194       0.00      0.00      0.00         1\n",
            "         226       0.00      0.00      0.00         1\n",
            "         241       0.00      0.00      0.00         3\n",
            "         281       0.00      0.00      0.00         1\n",
            "         341       0.00      0.00      0.00         2\n",
            "         365       0.00      0.00      0.00         1\n",
            "         404       0.00      0.00      0.00         2\n",
            "         480       0.00      0.00      0.00         1\n",
            "         483       0.00      0.00      0.00         5\n",
            "         630       0.00      0.00      0.00         7\n",
            "         657       0.00      0.00      0.00         1\n",
            "         715       0.00      0.00      0.00         1\n",
            "\n",
            "    accuracy                           0.60       111\n",
            "   macro avg       0.04      0.07      0.05       111\n",
            "weighted avg       0.36      0.60      0.45       111\n",
            "\n"
          ]
        },
        {
          "output_type": "stream",
          "name": "stderr",
          "text": [
            "/usr/local/lib/python3.10/dist-packages/sklearn/metrics/_classification.py:1344: UndefinedMetricWarning: Precision and F-score are ill-defined and being set to 0.0 in labels with no predicted samples. Use `zero_division` parameter to control this behavior.\n",
            "  _warn_prf(average, modifier, msg_start, len(result))\n",
            "/usr/local/lib/python3.10/dist-packages/sklearn/metrics/_classification.py:1344: UndefinedMetricWarning: Precision and F-score are ill-defined and being set to 0.0 in labels with no predicted samples. Use `zero_division` parameter to control this behavior.\n",
            "  _warn_prf(average, modifier, msg_start, len(result))\n",
            "/usr/local/lib/python3.10/dist-packages/sklearn/metrics/_classification.py:1344: UndefinedMetricWarning: Precision and F-score are ill-defined and being set to 0.0 in labels with no predicted samples. Use `zero_division` parameter to control this behavior.\n",
            "  _warn_prf(average, modifier, msg_start, len(result))\n"
          ]
        }
      ],
      "source": [
        "# Classification report\n",
        "print(\"Classification Report:\")\n",
        "print(classification_report(y_test_flat, y_pred))\n",
        "\n",
        "# Confusion matrix\n",
        "# print(\"Confusion Matrix:\")\n",
        "# conf_matrix = confusion_matrix(y_test_flat, y_pred)\n",
        "# print(conf_matrix)"
      ]
    },
    {
      "cell_type": "code",
      "execution_count": null,
      "metadata": {
        "colab": {
          "base_uri": "https://localhost:8080/",
          "height": 329
        },
        "id": "fBucqfhm27aL",
        "outputId": "fdc4bbda-67c0-45fd-c260-41366dc69eb0"
      },
      "outputs": [
        {
          "output_type": "stream",
          "name": "stdout",
          "text": [
            "SONI: Hi! I'm SONI, your chatbot. Ask me any question or type 'exit' to end the conversation.\n"
          ]
        },
        {
          "output_type": "error",
          "ename": "KeyboardInterrupt",
          "evalue": "Interrupted by user",
          "traceback": [
            "\u001b[0;31m---------------------------------------------------------------------------\u001b[0m",
            "\u001b[0;31mKeyboardInterrupt\u001b[0m                         Traceback (most recent call last)",
            "\u001b[0;32m<ipython-input-74-4dd9d6811529>\u001b[0m in \u001b[0;36m<cell line: 2>\u001b[0;34m()\u001b[0m\n\u001b[1;32m      1\u001b[0m \u001b[0;31m# Call the SONI_chatbot function with the best model\u001b[0m\u001b[0;34m\u001b[0m\u001b[0;34m\u001b[0m\u001b[0m\n\u001b[0;32m----> 2\u001b[0;31m \u001b[0mSONI_chatbot\u001b[0m\u001b[0;34m(\u001b[0m\u001b[0mbest_model\u001b[0m\u001b[0;34m)\u001b[0m\u001b[0;34m\u001b[0m\u001b[0;34m\u001b[0m\u001b[0m\n\u001b[0m",
            "\u001b[0;32m<ipython-input-70-beb4a2af8f69>\u001b[0m in \u001b[0;36mSONI_chatbot\u001b[0;34m(model)\u001b[0m\n\u001b[1;32m      4\u001b[0m     \u001b[0;31m# SONI chatbot interaction\u001b[0m\u001b[0;34m\u001b[0m\u001b[0;34m\u001b[0m\u001b[0m\n\u001b[1;32m      5\u001b[0m     \u001b[0;32mwhile\u001b[0m \u001b[0;32mTrue\u001b[0m\u001b[0;34m:\u001b[0m\u001b[0;34m\u001b[0m\u001b[0;34m\u001b[0m\u001b[0m\n\u001b[0;32m----> 6\u001b[0;31m         \u001b[0muser_input\u001b[0m \u001b[0;34m=\u001b[0m \u001b[0minput\u001b[0m\u001b[0;34m(\u001b[0m\u001b[0;34m\"You: \"\u001b[0m\u001b[0;34m)\u001b[0m\u001b[0;34m.\u001b[0m\u001b[0mstrip\u001b[0m\u001b[0;34m(\u001b[0m\u001b[0;34m)\u001b[0m\u001b[0;34m.\u001b[0m\u001b[0mlower\u001b[0m\u001b[0;34m(\u001b[0m\u001b[0;34m)\u001b[0m\u001b[0;34m\u001b[0m\u001b[0;34m\u001b[0m\u001b[0m\n\u001b[0m\u001b[1;32m      7\u001b[0m \u001b[0;34m\u001b[0m\u001b[0m\n\u001b[1;32m      8\u001b[0m         \u001b[0;32mif\u001b[0m \u001b[0muser_input\u001b[0m \u001b[0;34m==\u001b[0m \u001b[0;34m'exit'\u001b[0m\u001b[0;34m:\u001b[0m\u001b[0;34m\u001b[0m\u001b[0;34m\u001b[0m\u001b[0m\n",
            "\u001b[0;32m/usr/local/lib/python3.10/dist-packages/ipykernel/kernelbase.py\u001b[0m in \u001b[0;36mraw_input\u001b[0;34m(self, prompt)\u001b[0m\n\u001b[1;32m    849\u001b[0m                 \u001b[0;34m\"raw_input was called, but this frontend does not support input requests.\"\u001b[0m\u001b[0;34m\u001b[0m\u001b[0;34m\u001b[0m\u001b[0m\n\u001b[1;32m    850\u001b[0m             )\n\u001b[0;32m--> 851\u001b[0;31m         return self._input_request(str(prompt),\n\u001b[0m\u001b[1;32m    852\u001b[0m             \u001b[0mself\u001b[0m\u001b[0;34m.\u001b[0m\u001b[0m_parent_ident\u001b[0m\u001b[0;34m,\u001b[0m\u001b[0;34m\u001b[0m\u001b[0;34m\u001b[0m\u001b[0m\n\u001b[1;32m    853\u001b[0m             \u001b[0mself\u001b[0m\u001b[0;34m.\u001b[0m\u001b[0m_parent_header\u001b[0m\u001b[0;34m,\u001b[0m\u001b[0;34m\u001b[0m\u001b[0;34m\u001b[0m\u001b[0m\n",
            "\u001b[0;32m/usr/local/lib/python3.10/dist-packages/ipykernel/kernelbase.py\u001b[0m in \u001b[0;36m_input_request\u001b[0;34m(self, prompt, ident, parent, password)\u001b[0m\n\u001b[1;32m    893\u001b[0m             \u001b[0;32mexcept\u001b[0m \u001b[0mKeyboardInterrupt\u001b[0m\u001b[0;34m:\u001b[0m\u001b[0;34m\u001b[0m\u001b[0;34m\u001b[0m\u001b[0m\n\u001b[1;32m    894\u001b[0m                 \u001b[0;31m# re-raise KeyboardInterrupt, to truncate traceback\u001b[0m\u001b[0;34m\u001b[0m\u001b[0;34m\u001b[0m\u001b[0m\n\u001b[0;32m--> 895\u001b[0;31m                 \u001b[0;32mraise\u001b[0m \u001b[0mKeyboardInterrupt\u001b[0m\u001b[0;34m(\u001b[0m\u001b[0;34m\"Interrupted by user\"\u001b[0m\u001b[0;34m)\u001b[0m \u001b[0;32mfrom\u001b[0m \u001b[0;32mNone\u001b[0m\u001b[0;34m\u001b[0m\u001b[0;34m\u001b[0m\u001b[0m\n\u001b[0m\u001b[1;32m    896\u001b[0m             \u001b[0;32mexcept\u001b[0m \u001b[0mException\u001b[0m \u001b[0;32mas\u001b[0m \u001b[0me\u001b[0m\u001b[0;34m:\u001b[0m\u001b[0;34m\u001b[0m\u001b[0;34m\u001b[0m\u001b[0m\n\u001b[1;32m    897\u001b[0m                 \u001b[0mself\u001b[0m\u001b[0;34m.\u001b[0m\u001b[0mlog\u001b[0m\u001b[0;34m.\u001b[0m\u001b[0mwarning\u001b[0m\u001b[0;34m(\u001b[0m\u001b[0;34m\"Invalid Message:\"\u001b[0m\u001b[0;34m,\u001b[0m \u001b[0mexc_info\u001b[0m\u001b[0;34m=\u001b[0m\u001b[0;32mTrue\u001b[0m\u001b[0;34m)\u001b[0m\u001b[0;34m\u001b[0m\u001b[0;34m\u001b[0m\u001b[0m\n",
            "\u001b[0;31mKeyboardInterrupt\u001b[0m: Interrupted by user"
          ]
        }
      ],
      "source": [
        "# Call the SONI_chatbot function with the best model\n",
        "SONI_chatbot(best_model)"
      ]
    },
    {
      "cell_type": "markdown",
      "source": [
        "## K-Nearest Neighbors"
      ],
      "metadata": {
        "id": "FfLD-Cm_-Qw1"
      }
    },
    {
      "cell_type": "code",
      "source": [
        "from sklearn.neighbors import KNeighborsClassifier"
      ],
      "metadata": {
        "id": "0w-pSYh9_Obj"
      },
      "execution_count": 29,
      "outputs": []
    },
    {
      "cell_type": "code",
      "source": [
        "# Convert BERT embeddings to 1D arrays\n",
        "y_train_flat = np.argmax(y_train, axis=1)\n",
        "y_test_flat = np.argmax(y_test, axis=1)"
      ],
      "metadata": {
        "id": "MLWwMn2k-Ml2"
      },
      "execution_count": 24,
      "outputs": []
    },
    {
      "cell_type": "code",
      "source": [
        "def train_best_model_knn(X_train, y_train):\n",
        "    # Define hyperparameters to tune\n",
        "    param_grid = {\n",
        "        'n_neighbors': [3, 5, 7, 9, 11],\n",
        "        'weights': ['uniform', 'distance'],\n",
        "        'leaf_size': [10, 20, 30, 40, 50],\n",
        "        'p': [1, 2]\n",
        "    }\n",
        "\n",
        "    # Initialize GridSearchCV with accuracy and F1-score as scoring metrics\n",
        "    grid_search = GridSearchCV(KNeighborsClassifier(), param_grid, cv=3, scoring=['accuracy', 'f1'], n_jobs=-1, refit='f1')\n",
        "\n",
        "    # Perform hyperparameter tuning\n",
        "    grid_search.fit(X_train, y_train)\n",
        "\n",
        "    # Best hyperparameters\n",
        "    best_params_knn = grid_search.best_params_\n",
        "    print(\"Best Hyperparameters:\", best_params_knn)\n",
        "\n",
        "    # Return the best model\n",
        "    return grid_search.best_estimator_"
      ],
      "metadata": {
        "id": "lC2C5FKN-MjU"
      },
      "execution_count": 25,
      "outputs": []
    },
    {
      "cell_type": "code",
      "source": [
        "def get_best_response(user_input, patterns, responses, bert_embeddings_patterns, bert_embeddings_responses, model=None):\n",
        "    # Preprocess user input\n",
        "    preprocessed_user_input = preprocess_sentence(user_input)\n",
        "\n",
        "    # Generate BERT embedding for user input\n",
        "    user_input_embedding = generate_bert_embeddings([preprocessed_user_input])\n",
        "\n",
        "    # Calculate similarity scores with patterns\n",
        "    similarity_scores = cosine_similarity(user_input_embedding, bert_embeddings_patterns)\n",
        "\n",
        "    # Find index of pattern with highest similarity\n",
        "    best_pattern_index = np.argmax(similarity_scores)\n",
        "\n",
        "    # Retrieve response corresponding to the best pattern\n",
        "    best_response = responses[best_pattern_index]\n",
        "\n",
        "    return best_response"
      ],
      "metadata": {
        "id": "qJnZ99OE-Mgu"
      },
      "execution_count": 26,
      "outputs": []
    },
    {
      "cell_type": "code",
      "source": [
        "def SONI_chatbot(model):\n",
        "    print(\"SONI: Hi! I'm SONI, your chatbot. Ask me any question or type 'exit' to end the conversation.\")\n",
        "\n",
        "    # SONI chatbot interaction\n",
        "    while True:\n",
        "        user_input = input(\"You: \").strip().lower()\n",
        "\n",
        "        if user_input == 'exit':\n",
        "            print(\"SONI: Goodbye! Have a great day!\")\n",
        "            break\n",
        "\n",
        "        best_response = get_best_response(user_input, patterns, responses, bert_embeddings_patterns, bert_embeddings_responses, model=model)\n",
        "        print(\"SONI:\", best_response)"
      ],
      "metadata": {
        "id": "Yunud-af-MeP"
      },
      "execution_count": 27,
      "outputs": []
    },
    {
      "cell_type": "code",
      "source": [
        "# Train the best model\n",
        "best_model_knn = train_best_model_knn(X_train, y_train_flat)"
      ],
      "metadata": {
        "colab": {
          "base_uri": "https://localhost:8080/"
        },
        "id": "DAay69wV-Mbl",
        "outputId": "90521ae1-2274-40f1-d6e7-6d2e9799fb9d"
      },
      "execution_count": 33,
      "outputs": [
        {
          "output_type": "stream",
          "name": "stderr",
          "text": [
            "/usr/local/lib/python3.10/dist-packages/sklearn/model_selection/_split.py:700: UserWarning: The least populated class in y has only 1 members, which is less than n_splits=3.\n",
            "  warnings.warn(\n"
          ]
        },
        {
          "output_type": "stream",
          "name": "stdout",
          "text": [
            "Best Hyperparameters: {'leaf_size': 10, 'n_neighbors': 3, 'p': 1, 'weights': 'uniform'}\n"
          ]
        },
        {
          "output_type": "stream",
          "name": "stderr",
          "text": [
            "/usr/local/lib/python3.10/dist-packages/sklearn/model_selection/_search.py:952: UserWarning: One or more of the test scores are non-finite: [nan nan nan nan nan nan nan nan nan nan nan nan nan nan nan nan nan nan\n",
            " nan nan nan nan nan nan nan nan nan nan nan nan nan nan nan nan nan nan\n",
            " nan nan nan nan nan nan nan nan nan nan nan nan nan nan nan nan nan nan\n",
            " nan nan nan nan nan nan nan nan nan nan nan nan nan nan nan nan nan nan\n",
            " nan nan nan nan nan nan nan nan nan nan nan nan nan nan nan nan nan nan\n",
            " nan nan nan nan nan nan nan nan nan nan]\n",
            "  warnings.warn(\n"
          ]
        }
      ]
    },
    {
      "cell_type": "code",
      "source": [
        "# Predict on the test set using the best model\n",
        "y_pred_knn = best_model_knn.predict(X_test)"
      ],
      "metadata": {
        "id": "Oyg68Bo_-MRN"
      },
      "execution_count": 34,
      "outputs": []
    },
    {
      "cell_type": "code",
      "source": [
        "print(\"Classification Report:\")\n",
        "print(classification_report(y_test_flat, y_pred_knn))"
      ],
      "metadata": {
        "colab": {
          "base_uri": "https://localhost:8080/"
        },
        "id": "N1CHeF6N-MO3",
        "outputId": "d049102e-7e1b-4dd2-abf2-8cdf7b186e1f"
      },
      "execution_count": 35,
      "outputs": [
        {
          "output_type": "stream",
          "name": "stdout",
          "text": [
            "Classification Report:\n",
            "              precision    recall  f1-score   support\n",
            "\n",
            "          31       0.00      0.00      0.00         0\n",
            "          55       0.39      0.60      0.47        15\n",
            "         123       0.85      0.90      0.87        67\n",
            "         181       0.00      0.00      0.00         3\n",
            "         194       0.00      0.00      0.00         1\n",
            "         225       0.00      0.00      0.00         0\n",
            "         226       0.00      0.00      0.00         1\n",
            "         241       0.50      0.33      0.40         3\n",
            "         281       0.00      0.00      0.00         1\n",
            "         341       0.00      0.00      0.00         2\n",
            "         364       0.00      0.00      0.00         0\n",
            "         365       0.00      0.00      0.00         1\n",
            "         404       0.00      0.00      0.00         2\n",
            "         480       0.00      0.00      0.00         1\n",
            "         483       0.00      0.00      0.00         5\n",
            "         630       0.00      0.00      0.00         7\n",
            "         657       0.00      0.00      0.00         1\n",
            "         706       0.00      0.00      0.00         0\n",
            "         715       0.00      0.00      0.00         1\n",
            "\n",
            "    accuracy                           0.63       111\n",
            "   macro avg       0.09      0.10      0.09       111\n",
            "weighted avg       0.58      0.63      0.60       111\n",
            "\n"
          ]
        },
        {
          "output_type": "stream",
          "name": "stderr",
          "text": [
            "/usr/local/lib/python3.10/dist-packages/sklearn/metrics/_classification.py:1344: UndefinedMetricWarning: Precision and F-score are ill-defined and being set to 0.0 in labels with no predicted samples. Use `zero_division` parameter to control this behavior.\n",
            "  _warn_prf(average, modifier, msg_start, len(result))\n",
            "/usr/local/lib/python3.10/dist-packages/sklearn/metrics/_classification.py:1344: UndefinedMetricWarning: Recall and F-score are ill-defined and being set to 0.0 in labels with no true samples. Use `zero_division` parameter to control this behavior.\n",
            "  _warn_prf(average, modifier, msg_start, len(result))\n",
            "/usr/local/lib/python3.10/dist-packages/sklearn/metrics/_classification.py:1344: UndefinedMetricWarning: Precision and F-score are ill-defined and being set to 0.0 in labels with no predicted samples. Use `zero_division` parameter to control this behavior.\n",
            "  _warn_prf(average, modifier, msg_start, len(result))\n",
            "/usr/local/lib/python3.10/dist-packages/sklearn/metrics/_classification.py:1344: UndefinedMetricWarning: Recall and F-score are ill-defined and being set to 0.0 in labels with no true samples. Use `zero_division` parameter to control this behavior.\n",
            "  _warn_prf(average, modifier, msg_start, len(result))\n",
            "/usr/local/lib/python3.10/dist-packages/sklearn/metrics/_classification.py:1344: UndefinedMetricWarning: Precision and F-score are ill-defined and being set to 0.0 in labels with no predicted samples. Use `zero_division` parameter to control this behavior.\n",
            "  _warn_prf(average, modifier, msg_start, len(result))\n",
            "/usr/local/lib/python3.10/dist-packages/sklearn/metrics/_classification.py:1344: UndefinedMetricWarning: Recall and F-score are ill-defined and being set to 0.0 in labels with no true samples. Use `zero_division` parameter to control this behavior.\n",
            "  _warn_prf(average, modifier, msg_start, len(result))\n"
          ]
        }
      ]
    },
    {
      "cell_type": "code",
      "source": [
        "# Call the SONI_chatbot function with the best model KNN Model\n",
        "SONI_chatbot(best_model)"
      ],
      "metadata": {
        "id": "WDSyxr25-MKO"
      },
      "execution_count": null,
      "outputs": []
    },
    {
      "cell_type": "markdown",
      "source": [
        "## Decision Tree Model"
      ],
      "metadata": {
        "id": "AKHtIP7K___H"
      }
    },
    {
      "cell_type": "code",
      "source": [
        "from sklearn.tree import DecisionTreeClassifier"
      ],
      "metadata": {
        "id": "zVP7x7emAgoN"
      },
      "execution_count": 39,
      "outputs": []
    },
    {
      "cell_type": "code",
      "source": [
        "def train_best_model_dt(X_train, y_train):\n",
        "    # Define hyperparameters to tune\n",
        "    param_grid = {\n",
        "        'criterion': ['gini', 'entropy'],  # Splitting criterion\n",
        "        'max_depth': [None, 5, 10, 15],  # Maximum tree depth\n",
        "        'min_samples_split': [2, 5, 10],  # Minimum samples for split\n",
        "        'min_samples_leaf': [1, 5, 10]  # Minimum samples for leaf node\n",
        "    }\n",
        "\n",
        "    # Initialize GridSearchCV with accuracy and F1-score as scoring metrics\n",
        "    grid_search = GridSearchCV(DecisionTreeClassifier(), param_grid, cv=3, scoring=['accuracy', 'f1'], n_jobs=-1, refit='f1')\n",
        "\n",
        "    # Perform hyperparameter tuning\n",
        "    grid_search.fit(X_train, y_train)\n",
        "\n",
        "    # Best hyperparameters\n",
        "    best_params_dt = grid_search.best_params_\n",
        "    print(\"Best Hyperparameters:\", best_params_dt)\n",
        "\n",
        "    # Return the best model\n",
        "    return grid_search.best_estimator_"
      ],
      "metadata": {
        "id": "MYYcH4i__9W_"
      },
      "execution_count": 36,
      "outputs": []
    },
    {
      "cell_type": "code",
      "source": [
        "def get_best_response(user_input, patterns, responses, bert_embeddings_patterns, bert_embeddings_responses, model=None):\n",
        "    # Preprocess user input\n",
        "    preprocessed_user_input = preprocess_sentence(user_input)\n",
        "\n",
        "    # Generate BERT embedding for user input\n",
        "    user_input_embedding = generate_bert_embeddings([preprocessed_user_input])\n",
        "\n",
        "    # Calculate similarity scores with patterns\n",
        "    similarity_scores = cosine_similarity(user_input_embedding, bert_embeddings_patterns)\n",
        "\n",
        "    # Find index of pattern with highest similarity\n",
        "    best_pattern_index = np.argmax(similarity_scores)\n",
        "\n",
        "    # Retrieve response corresponding to the best pattern\n",
        "    best_response = responses[best_pattern_index]\n",
        "\n",
        "    return best_response"
      ],
      "metadata": {
        "id": "3eQV2HtI_9UH"
      },
      "execution_count": 134,
      "outputs": []
    },
    {
      "cell_type": "code",
      "source": [
        "def SONI_chatbot(model):\n",
        "    print(\"SONI: Hi! I'm SONI, your chatbot. Ask me any question or type 'exit' to end the conversation.\")\n",
        "\n",
        "    # SONI chatbot interaction\n",
        "    while True:\n",
        "        user_input = input(\"You: \").strip().lower()\n",
        "\n",
        "        if user_input == 'exit':\n",
        "            print(\"SONI: Goodbye! Have a great day!\")\n",
        "            break\n",
        "\n",
        "        best_response = get_best_response(user_input, patterns, responses, bert_embeddings_patterns, bert_embeddings_responses, model=model)\n",
        "        print(\"SONI:\", best_response)"
      ],
      "metadata": {
        "id": "tyduJBrB_9Gw"
      },
      "execution_count": 135,
      "outputs": []
    },
    {
      "cell_type": "code",
      "source": [
        "# Train the best Decesion Tree model\n",
        "best_model_dt = train_best_model_dt(X_train, y_train_flat)"
      ],
      "metadata": {
        "colab": {
          "base_uri": "https://localhost:8080/"
        },
        "id": "Coy8VUfV_9Eg",
        "outputId": "4a0cb0b4-71e5-4f8a-b99f-55995bfebe16"
      },
      "execution_count": 40,
      "outputs": [
        {
          "output_type": "stream",
          "name": "stderr",
          "text": [
            "/usr/local/lib/python3.10/dist-packages/sklearn/model_selection/_split.py:700: UserWarning: The least populated class in y has only 1 members, which is less than n_splits=3.\n",
            "  warnings.warn(\n",
            "/usr/local/lib/python3.10/dist-packages/sklearn/model_selection/_search.py:952: UserWarning: One or more of the test scores are non-finite: [nan nan nan nan nan nan nan nan nan nan nan nan nan nan nan nan nan nan\n",
            " nan nan nan nan nan nan nan nan nan nan nan nan nan nan nan nan nan nan\n",
            " nan nan nan nan nan nan nan nan nan nan nan nan nan nan nan nan nan nan\n",
            " nan nan nan nan nan nan nan nan nan nan nan nan nan nan nan nan nan nan]\n",
            "  warnings.warn(\n"
          ]
        },
        {
          "output_type": "stream",
          "name": "stdout",
          "text": [
            "Best Hyperparameters: {'criterion': 'gini', 'max_depth': None, 'min_samples_leaf': 1, 'min_samples_split': 2}\n"
          ]
        }
      ]
    },
    {
      "cell_type": "code",
      "source": [
        "# Predict on the test set using the best model\n",
        "y_pred_dt = best_model_dt.predict(X_test)"
      ],
      "metadata": {
        "id": "scD9uLrk_9By"
      },
      "execution_count": 41,
      "outputs": []
    },
    {
      "cell_type": "code",
      "source": [
        "# Classification report\n",
        "print(\"Classification Report:\")\n",
        "print(classification_report(y_test_flat, y_pred_dt))"
      ],
      "metadata": {
        "colab": {
          "base_uri": "https://localhost:8080/"
        },
        "id": "hPe4xsAp_eMd",
        "outputId": "cfeb3a4e-3a2f-41f4-f0a5-5827ded7a34d"
      },
      "execution_count": 42,
      "outputs": [
        {
          "output_type": "stream",
          "name": "stdout",
          "text": [
            "Classification Report:\n",
            "              precision    recall  f1-score   support\n",
            "\n",
            "          31       0.00      0.00      0.00         0\n",
            "          55       0.64      0.47      0.54        15\n",
            "         123       0.86      0.76      0.81        67\n",
            "         181       0.00      0.00      0.00         3\n",
            "         194       0.00      0.00      0.00         1\n",
            "         226       0.00      0.00      0.00         1\n",
            "         241       0.20      0.33      0.25         3\n",
            "         281       0.00      0.00      0.00         1\n",
            "         341       0.00      0.00      0.00         2\n",
            "         352       0.00      0.00      0.00         0\n",
            "         365       0.00      0.00      0.00         1\n",
            "         404       0.00      0.00      0.00         2\n",
            "         480       0.00      0.00      0.00         1\n",
            "         483       0.00      0.00      0.00         5\n",
            "         630       0.06      0.14      0.08         7\n",
            "         657       0.00      0.00      0.00         1\n",
            "         706       0.00      0.00      0.00         0\n",
            "         715       0.00      0.00      0.00         1\n",
            "\n",
            "    accuracy                           0.54       111\n",
            "   macro avg       0.10      0.09      0.09       111\n",
            "weighted avg       0.62      0.54      0.57       111\n",
            "\n"
          ]
        },
        {
          "output_type": "stream",
          "name": "stderr",
          "text": [
            "/usr/local/lib/python3.10/dist-packages/sklearn/metrics/_classification.py:1344: UndefinedMetricWarning: Precision and F-score are ill-defined and being set to 0.0 in labels with no predicted samples. Use `zero_division` parameter to control this behavior.\n",
            "  _warn_prf(average, modifier, msg_start, len(result))\n",
            "/usr/local/lib/python3.10/dist-packages/sklearn/metrics/_classification.py:1344: UndefinedMetricWarning: Recall and F-score are ill-defined and being set to 0.0 in labels with no true samples. Use `zero_division` parameter to control this behavior.\n",
            "  _warn_prf(average, modifier, msg_start, len(result))\n",
            "/usr/local/lib/python3.10/dist-packages/sklearn/metrics/_classification.py:1344: UndefinedMetricWarning: Precision and F-score are ill-defined and being set to 0.0 in labels with no predicted samples. Use `zero_division` parameter to control this behavior.\n",
            "  _warn_prf(average, modifier, msg_start, len(result))\n",
            "/usr/local/lib/python3.10/dist-packages/sklearn/metrics/_classification.py:1344: UndefinedMetricWarning: Recall and F-score are ill-defined and being set to 0.0 in labels with no true samples. Use `zero_division` parameter to control this behavior.\n",
            "  _warn_prf(average, modifier, msg_start, len(result))\n",
            "/usr/local/lib/python3.10/dist-packages/sklearn/metrics/_classification.py:1344: UndefinedMetricWarning: Precision and F-score are ill-defined and being set to 0.0 in labels with no predicted samples. Use `zero_division` parameter to control this behavior.\n",
            "  _warn_prf(average, modifier, msg_start, len(result))\n",
            "/usr/local/lib/python3.10/dist-packages/sklearn/metrics/_classification.py:1344: UndefinedMetricWarning: Recall and F-score are ill-defined and being set to 0.0 in labels with no true samples. Use `zero_division` parameter to control this behavior.\n",
            "  _warn_prf(average, modifier, msg_start, len(result))\n"
          ]
        }
      ]
    },
    {
      "cell_type": "code",
      "source": [
        "# Call the SONI_chatbot function with the best model\n",
        "SONI_chatbot(best_model)"
      ],
      "metadata": {
        "id": "vw__VIQJ_eKB"
      },
      "execution_count": null,
      "outputs": []
    },
    {
      "cell_type": "markdown",
      "source": [
        "## Support Vector Machine"
      ],
      "metadata": {
        "id": "oBYRMJLvsy8Z"
      }
    },
    {
      "cell_type": "code",
      "source": [
        "from sklearn.svm import SVC\n",
        "from sklearn.metrics import classification_report, confusion_matrix"
      ],
      "metadata": {
        "id": "9mMXeiFTsWo4"
      },
      "execution_count": 123,
      "outputs": []
    },
    {
      "cell_type": "code",
      "source": [
        "X_train_np = X_train.numpy()\n",
        "X_test_np = X_test.numpy()\n",
        "\n",
        "y_train_flat = np.argmax(y_train, axis=1)\n",
        "y_test_flat = np.argmax(y_test, axis=1)"
      ],
      "metadata": {
        "id": "tzKZ9TOx8wmp"
      },
      "execution_count": 129,
      "outputs": []
    },
    {
      "cell_type": "code",
      "source": [
        "# Step 2: Train the SVM model\n",
        "svm_model = SVC(kernel='linear', random_state=95)\n",
        "svm_model.fit(X_train_np, y_train_flat)"
      ],
      "metadata": {
        "colab": {
          "base_uri": "https://localhost:8080/",
          "height": 75
        },
        "id": "uKbgZ4Sc8wjp",
        "outputId": "3e50b091-f01c-4254-b999-7d6b417bac83"
      },
      "execution_count": 130,
      "outputs": [
        {
          "output_type": "execute_result",
          "data": {
            "text/plain": [
              "SVC(kernel='linear', random_state=95)"
            ],
            "text/html": [
              "<style>#sk-container-id-5 {color: black;background-color: white;}#sk-container-id-5 pre{padding: 0;}#sk-container-id-5 div.sk-toggleable {background-color: white;}#sk-container-id-5 label.sk-toggleable__label {cursor: pointer;display: block;width: 100%;margin-bottom: 0;padding: 0.3em;box-sizing: border-box;text-align: center;}#sk-container-id-5 label.sk-toggleable__label-arrow:before {content: \"▸\";float: left;margin-right: 0.25em;color: #696969;}#sk-container-id-5 label.sk-toggleable__label-arrow:hover:before {color: black;}#sk-container-id-5 div.sk-estimator:hover label.sk-toggleable__label-arrow:before {color: black;}#sk-container-id-5 div.sk-toggleable__content {max-height: 0;max-width: 0;overflow: hidden;text-align: left;background-color: #f0f8ff;}#sk-container-id-5 div.sk-toggleable__content pre {margin: 0.2em;color: black;border-radius: 0.25em;background-color: #f0f8ff;}#sk-container-id-5 input.sk-toggleable__control:checked~div.sk-toggleable__content {max-height: 200px;max-width: 100%;overflow: auto;}#sk-container-id-5 input.sk-toggleable__control:checked~label.sk-toggleable__label-arrow:before {content: \"▾\";}#sk-container-id-5 div.sk-estimator input.sk-toggleable__control:checked~label.sk-toggleable__label {background-color: #d4ebff;}#sk-container-id-5 div.sk-label input.sk-toggleable__control:checked~label.sk-toggleable__label {background-color: #d4ebff;}#sk-container-id-5 input.sk-hidden--visually {border: 0;clip: rect(1px 1px 1px 1px);clip: rect(1px, 1px, 1px, 1px);height: 1px;margin: -1px;overflow: hidden;padding: 0;position: absolute;width: 1px;}#sk-container-id-5 div.sk-estimator {font-family: monospace;background-color: #f0f8ff;border: 1px dotted black;border-radius: 0.25em;box-sizing: border-box;margin-bottom: 0.5em;}#sk-container-id-5 div.sk-estimator:hover {background-color: #d4ebff;}#sk-container-id-5 div.sk-parallel-item::after {content: \"\";width: 100%;border-bottom: 1px solid gray;flex-grow: 1;}#sk-container-id-5 div.sk-label:hover label.sk-toggleable__label {background-color: #d4ebff;}#sk-container-id-5 div.sk-serial::before {content: \"\";position: absolute;border-left: 1px solid gray;box-sizing: border-box;top: 0;bottom: 0;left: 50%;z-index: 0;}#sk-container-id-5 div.sk-serial {display: flex;flex-direction: column;align-items: center;background-color: white;padding-right: 0.2em;padding-left: 0.2em;position: relative;}#sk-container-id-5 div.sk-item {position: relative;z-index: 1;}#sk-container-id-5 div.sk-parallel {display: flex;align-items: stretch;justify-content: center;background-color: white;position: relative;}#sk-container-id-5 div.sk-item::before, #sk-container-id-5 div.sk-parallel-item::before {content: \"\";position: absolute;border-left: 1px solid gray;box-sizing: border-box;top: 0;bottom: 0;left: 50%;z-index: -1;}#sk-container-id-5 div.sk-parallel-item {display: flex;flex-direction: column;z-index: 1;position: relative;background-color: white;}#sk-container-id-5 div.sk-parallel-item:first-child::after {align-self: flex-end;width: 50%;}#sk-container-id-5 div.sk-parallel-item:last-child::after {align-self: flex-start;width: 50%;}#sk-container-id-5 div.sk-parallel-item:only-child::after {width: 0;}#sk-container-id-5 div.sk-dashed-wrapped {border: 1px dashed gray;margin: 0 0.4em 0.5em 0.4em;box-sizing: border-box;padding-bottom: 0.4em;background-color: white;}#sk-container-id-5 div.sk-label label {font-family: monospace;font-weight: bold;display: inline-block;line-height: 1.2em;}#sk-container-id-5 div.sk-label-container {text-align: center;}#sk-container-id-5 div.sk-container {/* jupyter's `normalize.less` sets `[hidden] { display: none; }` but bootstrap.min.css set `[hidden] { display: none !important; }` so we also need the `!important` here to be able to override the default hidden behavior on the sphinx rendered scikit-learn.org. See: https://github.com/scikit-learn/scikit-learn/issues/21755 */display: inline-block !important;position: relative;}#sk-container-id-5 div.sk-text-repr-fallback {display: none;}</style><div id=\"sk-container-id-5\" class=\"sk-top-container\"><div class=\"sk-text-repr-fallback\"><pre>SVC(kernel=&#x27;linear&#x27;, random_state=95)</pre><b>In a Jupyter environment, please rerun this cell to show the HTML representation or trust the notebook. <br />On GitHub, the HTML representation is unable to render, please try loading this page with nbviewer.org.</b></div><div class=\"sk-container\" hidden><div class=\"sk-item\"><div class=\"sk-estimator sk-toggleable\"><input class=\"sk-toggleable__control sk-hidden--visually\" id=\"sk-estimator-id-5\" type=\"checkbox\" checked><label for=\"sk-estimator-id-5\" class=\"sk-toggleable__label sk-toggleable__label-arrow\">SVC</label><div class=\"sk-toggleable__content\"><pre>SVC(kernel=&#x27;linear&#x27;, random_state=95)</pre></div></div></div></div></div>"
            ]
          },
          "metadata": {},
          "execution_count": 130
        }
      ]
    },
    {
      "cell_type": "code",
      "source": [
        "# Step 3: Evaluate the model\n",
        "# Predict on the test set\n",
        "y_pred = svm_model.predict(X_test_np)\n"
      ],
      "metadata": {
        "id": "zjTJbRaM8wTv"
      },
      "execution_count": 131,
      "outputs": []
    },
    {
      "cell_type": "code",
      "source": [
        "print(\"Classification Report:\")\n",
        "print(classification_report(y_test_flat, y_pred))\n",
        "print(\"Confusion Matrix:\")\n",
        "print(confusion_matrix(y_test_flat, y_pred))"
      ],
      "metadata": {
        "colab": {
          "base_uri": "https://localhost:8080/"
        },
        "id": "jG1UTRJT8wRK",
        "outputId": "3a4c1366-5e13-45b9-cce9-2b25952e32d2"
      },
      "execution_count": 132,
      "outputs": [
        {
          "output_type": "stream",
          "name": "stdout",
          "text": [
            "Classification Report:\n",
            "              precision    recall  f1-score   support\n",
            "\n",
            "          55       0.48      0.67      0.56        15\n",
            "         123       0.86      0.85      0.86        67\n",
            "         181       0.25      0.33      0.29         3\n",
            "         194       0.00      0.00      0.00         1\n",
            "         225       0.00      0.00      0.00         0\n",
            "         226       0.00      0.00      0.00         1\n",
            "         241       0.50      0.33      0.40         3\n",
            "         281       0.00      0.00      0.00         1\n",
            "         341       0.00      0.00      0.00         2\n",
            "         365       0.00      0.00      0.00         1\n",
            "         404       0.00      0.00      0.00         2\n",
            "         480       0.00      0.00      0.00         1\n",
            "         483       0.00      0.00      0.00         5\n",
            "         630       0.08      0.14      0.11         7\n",
            "         657       0.00      0.00      0.00         1\n",
            "         706       0.00      0.00      0.00         0\n",
            "         715       0.00      0.00      0.00         1\n",
            "\n",
            "    accuracy                           0.63       111\n",
            "   macro avg       0.13      0.14      0.13       111\n",
            "weighted avg       0.61      0.63      0.62       111\n",
            "\n",
            "Confusion Matrix:\n",
            "[[10  0  1  0  0  0  0  0  0  0  0  0  0  4  0  0  0]\n",
            " [ 2 57  1  0  1  0  0  0  0  0  0  0  0  4  0  2  0]\n",
            " [ 1  1  1  0  0  0  0  0  0  0  0  0  0  0  0  0  0]\n",
            " [ 0  1  0  0  0  0  0  0  0  0  0  0  0  0  0  0  0]\n",
            " [ 0  0  0  0  0  0  0  0  0  0  0  0  0  0  0  0  0]\n",
            " [ 0  0  0  0  0  0  0  0  0  0  0  0  0  1  0  0  0]\n",
            " [ 2  0  0  0  0  0  1  0  0  0  0  0  0  0  0  0  0]\n",
            " [ 0  1  0  0  0  0  0  0  0  0  0  0  0  0  0  0  0]\n",
            " [ 1  0  0  0  0  0  0  0  0  0  0  0  0  1  0  0  0]\n",
            " [ 0  0  0  0  0  0  1  0  0  0  0  0  0  0  0  0  0]\n",
            " [ 0  1  0  0  0  0  0  0  0  0  0  0  0  1  0  0  0]\n",
            " [ 0  1  0  0  0  0  0  0  0  0  0  0  0  0  0  0  0]\n",
            " [ 2  1  1  0  0  0  0  0  0  1  0  0  0  0  0  0  0]\n",
            " [ 3  1  0  0  0  0  0  0  0  0  0  0  0  1  1  0  1]\n",
            " [ 0  1  0  0  0  0  0  0  0  0  0  0  0  0  0  0  0]\n",
            " [ 0  0  0  0  0  0  0  0  0  0  0  0  0  0  0  0  0]\n",
            " [ 0  1  0  0  0  0  0  0  0  0  0  0  0  0  0  0  0]]\n"
          ]
        },
        {
          "output_type": "stream",
          "name": "stderr",
          "text": [
            "/usr/local/lib/python3.10/dist-packages/sklearn/metrics/_classification.py:1344: UndefinedMetricWarning: Precision and F-score are ill-defined and being set to 0.0 in labels with no predicted samples. Use `zero_division` parameter to control this behavior.\n",
            "  _warn_prf(average, modifier, msg_start, len(result))\n",
            "/usr/local/lib/python3.10/dist-packages/sklearn/metrics/_classification.py:1344: UndefinedMetricWarning: Recall and F-score are ill-defined and being set to 0.0 in labels with no true samples. Use `zero_division` parameter to control this behavior.\n",
            "  _warn_prf(average, modifier, msg_start, len(result))\n",
            "/usr/local/lib/python3.10/dist-packages/sklearn/metrics/_classification.py:1344: UndefinedMetricWarning: Precision and F-score are ill-defined and being set to 0.0 in labels with no predicted samples. Use `zero_division` parameter to control this behavior.\n",
            "  _warn_prf(average, modifier, msg_start, len(result))\n",
            "/usr/local/lib/python3.10/dist-packages/sklearn/metrics/_classification.py:1344: UndefinedMetricWarning: Recall and F-score are ill-defined and being set to 0.0 in labels with no true samples. Use `zero_division` parameter to control this behavior.\n",
            "  _warn_prf(average, modifier, msg_start, len(result))\n",
            "/usr/local/lib/python3.10/dist-packages/sklearn/metrics/_classification.py:1344: UndefinedMetricWarning: Precision and F-score are ill-defined and being set to 0.0 in labels with no predicted samples. Use `zero_division` parameter to control this behavior.\n",
            "  _warn_prf(average, modifier, msg_start, len(result))\n",
            "/usr/local/lib/python3.10/dist-packages/sklearn/metrics/_classification.py:1344: UndefinedMetricWarning: Recall and F-score are ill-defined and being set to 0.0 in labels with no true samples. Use `zero_division` parameter to control this behavior.\n",
            "  _warn_prf(average, modifier, msg_start, len(result))\n"
          ]
        }
      ]
    },
    {
      "cell_type": "code",
      "source": [
        "# Call the SONI_chatbot function with the best model\n",
        "SONI_chatbot(svm_model)"
      ],
      "metadata": {
        "colab": {
          "base_uri": "https://localhost:8080/"
        },
        "id": "yGTGYRGX8wOc",
        "outputId": "24996428-5293-4ffc-905d-9a75b5e0f431"
      },
      "execution_count": 136,
      "outputs": [
        {
          "output_type": "stream",
          "name": "stdout",
          "text": [
            "SONI: Hi! I'm SONI, your chatbot. Ask me any question or type 'exit' to end the conversation.\n",
            "You: what ius klinear regression?\n",
            "SONI: Collinearity in linear regression occurs when independent variables are highly correlated with each other and can lead to instability in coefficient estimates.\n",
            "You: linear regression?\n",
            "SONI: Linear regression is a statistical method used to model the relationship between two variables.\n",
            "You: explain collinearity?\n",
            "SONI: Class weights in KNN help address imbalanced datasets by assigning higher importance to minority classes during training.\n",
            "You: explain class imbalance?\n",
            "SONI: Class imbalance in logistic regression models can lead to biased predictions, and techniques like oversampling, undersampling, or weighted loss functions are used to address it.\n",
            "You: what is support vector machine model?\n",
            "SONI: A support vector machine (SVM) is a supervised machine learning algorithm used for classification and regression tasks.\n",
            "You:         \"How do decision trees handle non-stationary non-linear data?\"\n",
            "SONI: Decision trees handle non-stationary non-deterministic data by considering the uncertainty inherent in the data and allowing for probabilistic predictions based on the available information.\n",
            "You: What is the role of the decision boundary in random forest models?\n",
            "SONI: Random forests offer built-in methods for tuning hyperparameters, allowing users to optimize model performance for specific tasks.\n",
            "You: exit\n",
            "SONI: Goodbye! Have a great day!\n"
          ]
        }
      ]
    },
    {
      "cell_type": "markdown",
      "source": [
        "## Random Forest"
      ],
      "metadata": {
        "id": "o-3iE_bC_-d5"
      }
    },
    {
      "cell_type": "code",
      "source": [
        "from sklearn.ensemble import RandomForestClassifier"
      ],
      "metadata": {
        "id": "HboGEyQQAKoz"
      },
      "execution_count": 137,
      "outputs": []
    },
    {
      "cell_type": "code",
      "source": [
        "def train_best_model_rf(X_train, y_train):\n",
        "    # Initialize RandomForestClassifier with default parameters\n",
        "    rf_model = RandomForestClassifier()\n",
        "\n",
        "    # Fit the model\n",
        "    rf_model.fit(X_train, y_train)\n",
        "\n",
        "    return rf_model"
      ],
      "metadata": {
        "id": "y6bHI-I3AN1O"
      },
      "execution_count": 140,
      "outputs": []
    },
    {
      "cell_type": "code",
      "source": [
        "# Train the best model\n",
        "rf_model = train_best_model_rf(X_train, y_train_flat)"
      ],
      "metadata": {
        "id": "G5o_oqnA_-Ow"
      },
      "execution_count": 141,
      "outputs": []
    },
    {
      "cell_type": "code",
      "source": [
        "\n",
        "# Predict on the test set\n",
        "y_pred = rf_model.predict(X_test_np)"
      ],
      "metadata": {
        "id": "QoDzLQgR_-Mi"
      },
      "execution_count": 144,
      "outputs": []
    },
    {
      "cell_type": "code",
      "source": [
        "print(\"Classification Report:\")\n",
        "print(classification_report(y_test_flat, y_pred))\n",
        "print(\"Confusion Matrix:\")\n",
        "print(confusion_matrix(y_test_flat, y_pred))"
      ],
      "metadata": {
        "colab": {
          "base_uri": "https://localhost:8080/"
        },
        "id": "iWHg8XSq_-KF",
        "outputId": "be5cb0e8-1e91-41b9-f7fa-aef430ce09da"
      },
      "execution_count": 145,
      "outputs": [
        {
          "output_type": "stream",
          "name": "stdout",
          "text": [
            "Classification Report:\n",
            "              precision    recall  f1-score   support\n",
            "\n",
            "          55       0.44      0.80      0.57        15\n",
            "         123       0.82      0.96      0.88        67\n",
            "         181       0.00      0.00      0.00         3\n",
            "         194       0.00      0.00      0.00         1\n",
            "         226       0.00      0.00      0.00         1\n",
            "         241       0.00      0.00      0.00         3\n",
            "         281       0.00      0.00      0.00         1\n",
            "         341       0.00      0.00      0.00         2\n",
            "         365       0.00      0.00      0.00         1\n",
            "         404       0.00      0.00      0.00         2\n",
            "         480       0.00      0.00      0.00         1\n",
            "         483       0.00      0.00      0.00         5\n",
            "         630       0.00      0.00      0.00         7\n",
            "         657       0.00      0.00      0.00         1\n",
            "         715       0.00      0.00      0.00         1\n",
            "\n",
            "    accuracy                           0.68       111\n",
            "   macro avg       0.08      0.12      0.10       111\n",
            "weighted avg       0.56      0.68      0.61       111\n",
            "\n",
            "Confusion Matrix:\n",
            "[[12  0  0  0  0  0  0  0  0  0  0  0  3  0  0]\n",
            " [ 2 64  0  0  0  0  0  0  0  0  0  0  1  0  0]\n",
            " [ 2  1  0  0  0  0  0  0  0  0  0  0  0  0  0]\n",
            " [ 0  1  0  0  0  0  0  0  0  0  0  0  0  0  0]\n",
            " [ 1  0  0  0  0  0  0  0  0  0  0  0  0  0  0]\n",
            " [ 2  1  0  0  0  0  0  0  0  0  0  0  0  0  0]\n",
            " [ 0  1  0  0  0  0  0  0  0  0  0  0  0  0  0]\n",
            " [ 2  0  0  0  0  0  0  0  0  0  0  0  0  0  0]\n",
            " [ 0  1  0  0  0  0  0  0  0  0  0  0  0  0  0]\n",
            " [ 1  1  0  0  0  0  0  0  0  0  0  0  0  0  0]\n",
            " [ 0  0  0  0  0  0  0  0  0  0  0  0  1  0  0]\n",
            " [ 3  1  0  0  0  0  0  0  0  0  0  0  1  0  0]\n",
            " [ 2  5  0  0  0  0  0  0  0  0  0  0  0  0  0]\n",
            " [ 0  1  0  0  0  0  0  0  0  0  0  0  0  0  0]\n",
            " [ 0  1  0  0  0  0  0  0  0  0  0  0  0  0  0]]\n"
          ]
        },
        {
          "output_type": "stream",
          "name": "stderr",
          "text": [
            "/usr/local/lib/python3.10/dist-packages/sklearn/metrics/_classification.py:1344: UndefinedMetricWarning: Precision and F-score are ill-defined and being set to 0.0 in labels with no predicted samples. Use `zero_division` parameter to control this behavior.\n",
            "  _warn_prf(average, modifier, msg_start, len(result))\n",
            "/usr/local/lib/python3.10/dist-packages/sklearn/metrics/_classification.py:1344: UndefinedMetricWarning: Precision and F-score are ill-defined and being set to 0.0 in labels with no predicted samples. Use `zero_division` parameter to control this behavior.\n",
            "  _warn_prf(average, modifier, msg_start, len(result))\n",
            "/usr/local/lib/python3.10/dist-packages/sklearn/metrics/_classification.py:1344: UndefinedMetricWarning: Precision and F-score are ill-defined and being set to 0.0 in labels with no predicted samples. Use `zero_division` parameter to control this behavior.\n",
            "  _warn_prf(average, modifier, msg_start, len(result))\n"
          ]
        }
      ]
    },
    {
      "cell_type": "code",
      "source": [
        "def get_best_response(user_input, patterns, responses, bert_embeddings_patterns, bert_embeddings_responses, model=None):\n",
        "    # Preprocess user input\n",
        "    preprocessed_user_input = preprocess_sentence(user_input)\n",
        "\n",
        "    # Generate BERT embedding for user input\n",
        "    user_input_embedding = generate_bert_embeddings([preprocessed_user_input])\n",
        "\n",
        "    # Calculate similarity scores with patterns\n",
        "    similarity_scores = cosine_similarity(user_input_embedding, bert_embeddings_patterns)\n",
        "\n",
        "    # Find index of pattern with highest similarity\n",
        "    best_pattern_index = np.argmax(similarity_scores)\n",
        "\n",
        "    # Retrieve response corresponding to the best pattern\n",
        "    best_response = responses[best_pattern_index]\n",
        "\n",
        "    return best_response"
      ],
      "metadata": {
        "id": "4kvH5hcXsWmS"
      },
      "execution_count": 146,
      "outputs": []
    },
    {
      "cell_type": "code",
      "source": [
        "def SONI_chatbot(model):\n",
        "    print(\"SONI: Hi! I'm SONI, your chatbot. Ask me any question or type 'exit' to end the conversation.\")\n",
        "\n",
        "    # SONI chatbot interaction\n",
        "    while True:\n",
        "        user_input = input(\"You: \").strip().lower()\n",
        "\n",
        "        if user_input == 'exit':\n",
        "            print(\"SONI: Goodbye! Have a great day!\")\n",
        "            break\n",
        "\n",
        "        best_response = get_best_response(user_input, patterns, responses, bert_embeddings_patterns, bert_embeddings_responses, model=model)\n",
        "        print(\"SONI:\", best_response)"
      ],
      "metadata": {
        "id": "t9q9QjqwsWkH"
      },
      "execution_count": 147,
      "outputs": []
    },
    {
      "cell_type": "code",
      "source": [
        "SONI_chatbot(rf_model)"
      ],
      "metadata": {
        "colab": {
          "base_uri": "https://localhost:8080/"
        },
        "id": "Ot6UexYYsWh9",
        "outputId": "a355c024-e39c-48b7-834d-b29ac85f1075"
      },
      "execution_count": 148,
      "outputs": [
        {
          "output_type": "stream",
          "name": "stdout",
          "text": [
            "SONI: Hi! I'm SONI, your chatbot. Ask me any question or type 'exit' to end the conversation.\n",
            "You: What is the role of the decision boundary in random forest models?\n",
            "SONI: Random forests offer built-in methods for tuning hyperparameters, allowing users to optimize model performance for specific tasks.\n",
            "You:         \"What is the role of pruning in preventing overfitting in random forest models?\",\n",
            "SONI: Random forests offer built-in methods for tuning hyperparameters, allowing users to optimize model performance for specific tasks.\n",
            "You:         \"How do you diagnose and address bias in random forest models?\",\n",
            "SONI: Random forests can handle data with mixed feature types, including both continuous and categorical variables, without the need for feature preprocessing.\n",
            "You: \"Random forests consist of a collection of decision trees, each trained on a random subset of the training data, and their predictions are combined through voting or averaging.\"\n",
            "SONI: Random forests provide measures of uncertainty in predictions, allowing users to assess the reliability of model predictions.\n",
            "You: Random forests offer a balance between bias and variance, providing stable and reliable predictions across different datasets\n",
            "SONI: Multicollinearity in logistic regression can be assessed using variance inflation factors (VIF), correlation matrices, or condition indices.\n",
            "You: exit\n",
            "SONI: Goodbye! Have a great day!\n"
          ]
        }
      ]
    },
    {
      "cell_type": "code",
      "source": [],
      "metadata": {
        "id": "gF0TYz6lsWfJ"
      },
      "execution_count": null,
      "outputs": []
    },
    {
      "cell_type": "code",
      "source": [],
      "metadata": {
        "id": "SMxogQeBsWcg"
      },
      "execution_count": null,
      "outputs": []
    }
  ],
  "metadata": {
    "colab": {
      "provenance": []
    },
    "kernelspec": {
      "display_name": "Python 3",
      "name": "python3"
    },
    "language_info": {
      "name": "python"
    },
    "widgets": {
      "application/vnd.jupyter.widget-state+json": {
        "23400ebecf274491ab45f6269ba49f90": {
          "model_module": "@jupyter-widgets/controls",
          "model_name": "HBoxModel",
          "model_module_version": "1.5.0",
          "state": {
            "_dom_classes": [],
            "_model_module": "@jupyter-widgets/controls",
            "_model_module_version": "1.5.0",
            "_model_name": "HBoxModel",
            "_view_count": null,
            "_view_module": "@jupyter-widgets/controls",
            "_view_module_version": "1.5.0",
            "_view_name": "HBoxView",
            "box_style": "",
            "children": [
              "IPY_MODEL_3c14163ecc6241a4a7fba9f2b4bbe295",
              "IPY_MODEL_eebd1dc7139b4da2b56de4ac8c5668d4",
              "IPY_MODEL_3a6c2aa7aba6400daafcaba4d3d227b0"
            ],
            "layout": "IPY_MODEL_940f5e9120a545c1ab2092f871b5555f"
          }
        },
        "3c14163ecc6241a4a7fba9f2b4bbe295": {
          "model_module": "@jupyter-widgets/controls",
          "model_name": "HTMLModel",
          "model_module_version": "1.5.0",
          "state": {
            "_dom_classes": [],
            "_model_module": "@jupyter-widgets/controls",
            "_model_module_version": "1.5.0",
            "_model_name": "HTMLModel",
            "_view_count": null,
            "_view_module": "@jupyter-widgets/controls",
            "_view_module_version": "1.5.0",
            "_view_name": "HTMLView",
            "description": "",
            "description_tooltip": null,
            "layout": "IPY_MODEL_51dd5e211f7b412cb6ed5c851b702787",
            "placeholder": "​",
            "style": "IPY_MODEL_b60546aec3af42499553e2f3d5eefb19",
            "value": "tokenizer_config.json: 100%"
          }
        },
        "eebd1dc7139b4da2b56de4ac8c5668d4": {
          "model_module": "@jupyter-widgets/controls",
          "model_name": "FloatProgressModel",
          "model_module_version": "1.5.0",
          "state": {
            "_dom_classes": [],
            "_model_module": "@jupyter-widgets/controls",
            "_model_module_version": "1.5.0",
            "_model_name": "FloatProgressModel",
            "_view_count": null,
            "_view_module": "@jupyter-widgets/controls",
            "_view_module_version": "1.5.0",
            "_view_name": "ProgressView",
            "bar_style": "success",
            "description": "",
            "description_tooltip": null,
            "layout": "IPY_MODEL_4972b161aceb4ee9b3d3b018943c7912",
            "max": 48,
            "min": 0,
            "orientation": "horizontal",
            "style": "IPY_MODEL_dc14907fb27842bea181aa1f1676732a",
            "value": 48
          }
        },
        "3a6c2aa7aba6400daafcaba4d3d227b0": {
          "model_module": "@jupyter-widgets/controls",
          "model_name": "HTMLModel",
          "model_module_version": "1.5.0",
          "state": {
            "_dom_classes": [],
            "_model_module": "@jupyter-widgets/controls",
            "_model_module_version": "1.5.0",
            "_model_name": "HTMLModel",
            "_view_count": null,
            "_view_module": "@jupyter-widgets/controls",
            "_view_module_version": "1.5.0",
            "_view_name": "HTMLView",
            "description": "",
            "description_tooltip": null,
            "layout": "IPY_MODEL_92b544a9b1074ac3acc2c370ffa0d7dc",
            "placeholder": "​",
            "style": "IPY_MODEL_2757c1b4c5534c5ea7c0658e53bde7a1",
            "value": " 48.0/48.0 [00:00&lt;00:00, 624B/s]"
          }
        },
        "940f5e9120a545c1ab2092f871b5555f": {
          "model_module": "@jupyter-widgets/base",
          "model_name": "LayoutModel",
          "model_module_version": "1.2.0",
          "state": {
            "_model_module": "@jupyter-widgets/base",
            "_model_module_version": "1.2.0",
            "_model_name": "LayoutModel",
            "_view_count": null,
            "_view_module": "@jupyter-widgets/base",
            "_view_module_version": "1.2.0",
            "_view_name": "LayoutView",
            "align_content": null,
            "align_items": null,
            "align_self": null,
            "border": null,
            "bottom": null,
            "display": null,
            "flex": null,
            "flex_flow": null,
            "grid_area": null,
            "grid_auto_columns": null,
            "grid_auto_flow": null,
            "grid_auto_rows": null,
            "grid_column": null,
            "grid_gap": null,
            "grid_row": null,
            "grid_template_areas": null,
            "grid_template_columns": null,
            "grid_template_rows": null,
            "height": null,
            "justify_content": null,
            "justify_items": null,
            "left": null,
            "margin": null,
            "max_height": null,
            "max_width": null,
            "min_height": null,
            "min_width": null,
            "object_fit": null,
            "object_position": null,
            "order": null,
            "overflow": null,
            "overflow_x": null,
            "overflow_y": null,
            "padding": null,
            "right": null,
            "top": null,
            "visibility": null,
            "width": null
          }
        },
        "51dd5e211f7b412cb6ed5c851b702787": {
          "model_module": "@jupyter-widgets/base",
          "model_name": "LayoutModel",
          "model_module_version": "1.2.0",
          "state": {
            "_model_module": "@jupyter-widgets/base",
            "_model_module_version": "1.2.0",
            "_model_name": "LayoutModel",
            "_view_count": null,
            "_view_module": "@jupyter-widgets/base",
            "_view_module_version": "1.2.0",
            "_view_name": "LayoutView",
            "align_content": null,
            "align_items": null,
            "align_self": null,
            "border": null,
            "bottom": null,
            "display": null,
            "flex": null,
            "flex_flow": null,
            "grid_area": null,
            "grid_auto_columns": null,
            "grid_auto_flow": null,
            "grid_auto_rows": null,
            "grid_column": null,
            "grid_gap": null,
            "grid_row": null,
            "grid_template_areas": null,
            "grid_template_columns": null,
            "grid_template_rows": null,
            "height": null,
            "justify_content": null,
            "justify_items": null,
            "left": null,
            "margin": null,
            "max_height": null,
            "max_width": null,
            "min_height": null,
            "min_width": null,
            "object_fit": null,
            "object_position": null,
            "order": null,
            "overflow": null,
            "overflow_x": null,
            "overflow_y": null,
            "padding": null,
            "right": null,
            "top": null,
            "visibility": null,
            "width": null
          }
        },
        "b60546aec3af42499553e2f3d5eefb19": {
          "model_module": "@jupyter-widgets/controls",
          "model_name": "DescriptionStyleModel",
          "model_module_version": "1.5.0",
          "state": {
            "_model_module": "@jupyter-widgets/controls",
            "_model_module_version": "1.5.0",
            "_model_name": "DescriptionStyleModel",
            "_view_count": null,
            "_view_module": "@jupyter-widgets/base",
            "_view_module_version": "1.2.0",
            "_view_name": "StyleView",
            "description_width": ""
          }
        },
        "4972b161aceb4ee9b3d3b018943c7912": {
          "model_module": "@jupyter-widgets/base",
          "model_name": "LayoutModel",
          "model_module_version": "1.2.0",
          "state": {
            "_model_module": "@jupyter-widgets/base",
            "_model_module_version": "1.2.0",
            "_model_name": "LayoutModel",
            "_view_count": null,
            "_view_module": "@jupyter-widgets/base",
            "_view_module_version": "1.2.0",
            "_view_name": "LayoutView",
            "align_content": null,
            "align_items": null,
            "align_self": null,
            "border": null,
            "bottom": null,
            "display": null,
            "flex": null,
            "flex_flow": null,
            "grid_area": null,
            "grid_auto_columns": null,
            "grid_auto_flow": null,
            "grid_auto_rows": null,
            "grid_column": null,
            "grid_gap": null,
            "grid_row": null,
            "grid_template_areas": null,
            "grid_template_columns": null,
            "grid_template_rows": null,
            "height": null,
            "justify_content": null,
            "justify_items": null,
            "left": null,
            "margin": null,
            "max_height": null,
            "max_width": null,
            "min_height": null,
            "min_width": null,
            "object_fit": null,
            "object_position": null,
            "order": null,
            "overflow": null,
            "overflow_x": null,
            "overflow_y": null,
            "padding": null,
            "right": null,
            "top": null,
            "visibility": null,
            "width": null
          }
        },
        "dc14907fb27842bea181aa1f1676732a": {
          "model_module": "@jupyter-widgets/controls",
          "model_name": "ProgressStyleModel",
          "model_module_version": "1.5.0",
          "state": {
            "_model_module": "@jupyter-widgets/controls",
            "_model_module_version": "1.5.0",
            "_model_name": "ProgressStyleModel",
            "_view_count": null,
            "_view_module": "@jupyter-widgets/base",
            "_view_module_version": "1.2.0",
            "_view_name": "StyleView",
            "bar_color": null,
            "description_width": ""
          }
        },
        "92b544a9b1074ac3acc2c370ffa0d7dc": {
          "model_module": "@jupyter-widgets/base",
          "model_name": "LayoutModel",
          "model_module_version": "1.2.0",
          "state": {
            "_model_module": "@jupyter-widgets/base",
            "_model_module_version": "1.2.0",
            "_model_name": "LayoutModel",
            "_view_count": null,
            "_view_module": "@jupyter-widgets/base",
            "_view_module_version": "1.2.0",
            "_view_name": "LayoutView",
            "align_content": null,
            "align_items": null,
            "align_self": null,
            "border": null,
            "bottom": null,
            "display": null,
            "flex": null,
            "flex_flow": null,
            "grid_area": null,
            "grid_auto_columns": null,
            "grid_auto_flow": null,
            "grid_auto_rows": null,
            "grid_column": null,
            "grid_gap": null,
            "grid_row": null,
            "grid_template_areas": null,
            "grid_template_columns": null,
            "grid_template_rows": null,
            "height": null,
            "justify_content": null,
            "justify_items": null,
            "left": null,
            "margin": null,
            "max_height": null,
            "max_width": null,
            "min_height": null,
            "min_width": null,
            "object_fit": null,
            "object_position": null,
            "order": null,
            "overflow": null,
            "overflow_x": null,
            "overflow_y": null,
            "padding": null,
            "right": null,
            "top": null,
            "visibility": null,
            "width": null
          }
        },
        "2757c1b4c5534c5ea7c0658e53bde7a1": {
          "model_module": "@jupyter-widgets/controls",
          "model_name": "DescriptionStyleModel",
          "model_module_version": "1.5.0",
          "state": {
            "_model_module": "@jupyter-widgets/controls",
            "_model_module_version": "1.5.0",
            "_model_name": "DescriptionStyleModel",
            "_view_count": null,
            "_view_module": "@jupyter-widgets/base",
            "_view_module_version": "1.2.0",
            "_view_name": "StyleView",
            "description_width": ""
          }
        },
        "12b45662d6ea4e3da34e000ea9530730": {
          "model_module": "@jupyter-widgets/controls",
          "model_name": "HBoxModel",
          "model_module_version": "1.5.0",
          "state": {
            "_dom_classes": [],
            "_model_module": "@jupyter-widgets/controls",
            "_model_module_version": "1.5.0",
            "_model_name": "HBoxModel",
            "_view_count": null,
            "_view_module": "@jupyter-widgets/controls",
            "_view_module_version": "1.5.0",
            "_view_name": "HBoxView",
            "box_style": "",
            "children": [
              "IPY_MODEL_5c01c64bf2cc40c6b0ecacd96c6da65b",
              "IPY_MODEL_4ea00408256a4d2bbfd9e5d92b51ea60",
              "IPY_MODEL_39033e358d27456eb2ba5b19a2d29dcc"
            ],
            "layout": "IPY_MODEL_b78dfb3a6093485f8172e533d8a61313"
          }
        },
        "5c01c64bf2cc40c6b0ecacd96c6da65b": {
          "model_module": "@jupyter-widgets/controls",
          "model_name": "HTMLModel",
          "model_module_version": "1.5.0",
          "state": {
            "_dom_classes": [],
            "_model_module": "@jupyter-widgets/controls",
            "_model_module_version": "1.5.0",
            "_model_name": "HTMLModel",
            "_view_count": null,
            "_view_module": "@jupyter-widgets/controls",
            "_view_module_version": "1.5.0",
            "_view_name": "HTMLView",
            "description": "",
            "description_tooltip": null,
            "layout": "IPY_MODEL_6655c6caa3bb42269f2d575d295732fe",
            "placeholder": "​",
            "style": "IPY_MODEL_e0d96567bf6448b5b69f2aa7823c93b9",
            "value": "vocab.txt: 100%"
          }
        },
        "4ea00408256a4d2bbfd9e5d92b51ea60": {
          "model_module": "@jupyter-widgets/controls",
          "model_name": "FloatProgressModel",
          "model_module_version": "1.5.0",
          "state": {
            "_dom_classes": [],
            "_model_module": "@jupyter-widgets/controls",
            "_model_module_version": "1.5.0",
            "_model_name": "FloatProgressModel",
            "_view_count": null,
            "_view_module": "@jupyter-widgets/controls",
            "_view_module_version": "1.5.0",
            "_view_name": "ProgressView",
            "bar_style": "success",
            "description": "",
            "description_tooltip": null,
            "layout": "IPY_MODEL_351f9f8162cc43bb9ac7b4100f550b25",
            "max": 231508,
            "min": 0,
            "orientation": "horizontal",
            "style": "IPY_MODEL_68578623160b438aaea5c5e67794834b",
            "value": 231508
          }
        },
        "39033e358d27456eb2ba5b19a2d29dcc": {
          "model_module": "@jupyter-widgets/controls",
          "model_name": "HTMLModel",
          "model_module_version": "1.5.0",
          "state": {
            "_dom_classes": [],
            "_model_module": "@jupyter-widgets/controls",
            "_model_module_version": "1.5.0",
            "_model_name": "HTMLModel",
            "_view_count": null,
            "_view_module": "@jupyter-widgets/controls",
            "_view_module_version": "1.5.0",
            "_view_name": "HTMLView",
            "description": "",
            "description_tooltip": null,
            "layout": "IPY_MODEL_97fcfdc9246b4f59a23754b3e31f00a3",
            "placeholder": "​",
            "style": "IPY_MODEL_28d229c4266c4490a5c83ecd33df2b4e",
            "value": " 232k/232k [00:00&lt;00:00, 3.53MB/s]"
          }
        },
        "b78dfb3a6093485f8172e533d8a61313": {
          "model_module": "@jupyter-widgets/base",
          "model_name": "LayoutModel",
          "model_module_version": "1.2.0",
          "state": {
            "_model_module": "@jupyter-widgets/base",
            "_model_module_version": "1.2.0",
            "_model_name": "LayoutModel",
            "_view_count": null,
            "_view_module": "@jupyter-widgets/base",
            "_view_module_version": "1.2.0",
            "_view_name": "LayoutView",
            "align_content": null,
            "align_items": null,
            "align_self": null,
            "border": null,
            "bottom": null,
            "display": null,
            "flex": null,
            "flex_flow": null,
            "grid_area": null,
            "grid_auto_columns": null,
            "grid_auto_flow": null,
            "grid_auto_rows": null,
            "grid_column": null,
            "grid_gap": null,
            "grid_row": null,
            "grid_template_areas": null,
            "grid_template_columns": null,
            "grid_template_rows": null,
            "height": null,
            "justify_content": null,
            "justify_items": null,
            "left": null,
            "margin": null,
            "max_height": null,
            "max_width": null,
            "min_height": null,
            "min_width": null,
            "object_fit": null,
            "object_position": null,
            "order": null,
            "overflow": null,
            "overflow_x": null,
            "overflow_y": null,
            "padding": null,
            "right": null,
            "top": null,
            "visibility": null,
            "width": null
          }
        },
        "6655c6caa3bb42269f2d575d295732fe": {
          "model_module": "@jupyter-widgets/base",
          "model_name": "LayoutModel",
          "model_module_version": "1.2.0",
          "state": {
            "_model_module": "@jupyter-widgets/base",
            "_model_module_version": "1.2.0",
            "_model_name": "LayoutModel",
            "_view_count": null,
            "_view_module": "@jupyter-widgets/base",
            "_view_module_version": "1.2.0",
            "_view_name": "LayoutView",
            "align_content": null,
            "align_items": null,
            "align_self": null,
            "border": null,
            "bottom": null,
            "display": null,
            "flex": null,
            "flex_flow": null,
            "grid_area": null,
            "grid_auto_columns": null,
            "grid_auto_flow": null,
            "grid_auto_rows": null,
            "grid_column": null,
            "grid_gap": null,
            "grid_row": null,
            "grid_template_areas": null,
            "grid_template_columns": null,
            "grid_template_rows": null,
            "height": null,
            "justify_content": null,
            "justify_items": null,
            "left": null,
            "margin": null,
            "max_height": null,
            "max_width": null,
            "min_height": null,
            "min_width": null,
            "object_fit": null,
            "object_position": null,
            "order": null,
            "overflow": null,
            "overflow_x": null,
            "overflow_y": null,
            "padding": null,
            "right": null,
            "top": null,
            "visibility": null,
            "width": null
          }
        },
        "e0d96567bf6448b5b69f2aa7823c93b9": {
          "model_module": "@jupyter-widgets/controls",
          "model_name": "DescriptionStyleModel",
          "model_module_version": "1.5.0",
          "state": {
            "_model_module": "@jupyter-widgets/controls",
            "_model_module_version": "1.5.0",
            "_model_name": "DescriptionStyleModel",
            "_view_count": null,
            "_view_module": "@jupyter-widgets/base",
            "_view_module_version": "1.2.0",
            "_view_name": "StyleView",
            "description_width": ""
          }
        },
        "351f9f8162cc43bb9ac7b4100f550b25": {
          "model_module": "@jupyter-widgets/base",
          "model_name": "LayoutModel",
          "model_module_version": "1.2.0",
          "state": {
            "_model_module": "@jupyter-widgets/base",
            "_model_module_version": "1.2.0",
            "_model_name": "LayoutModel",
            "_view_count": null,
            "_view_module": "@jupyter-widgets/base",
            "_view_module_version": "1.2.0",
            "_view_name": "LayoutView",
            "align_content": null,
            "align_items": null,
            "align_self": null,
            "border": null,
            "bottom": null,
            "display": null,
            "flex": null,
            "flex_flow": null,
            "grid_area": null,
            "grid_auto_columns": null,
            "grid_auto_flow": null,
            "grid_auto_rows": null,
            "grid_column": null,
            "grid_gap": null,
            "grid_row": null,
            "grid_template_areas": null,
            "grid_template_columns": null,
            "grid_template_rows": null,
            "height": null,
            "justify_content": null,
            "justify_items": null,
            "left": null,
            "margin": null,
            "max_height": null,
            "max_width": null,
            "min_height": null,
            "min_width": null,
            "object_fit": null,
            "object_position": null,
            "order": null,
            "overflow": null,
            "overflow_x": null,
            "overflow_y": null,
            "padding": null,
            "right": null,
            "top": null,
            "visibility": null,
            "width": null
          }
        },
        "68578623160b438aaea5c5e67794834b": {
          "model_module": "@jupyter-widgets/controls",
          "model_name": "ProgressStyleModel",
          "model_module_version": "1.5.0",
          "state": {
            "_model_module": "@jupyter-widgets/controls",
            "_model_module_version": "1.5.0",
            "_model_name": "ProgressStyleModel",
            "_view_count": null,
            "_view_module": "@jupyter-widgets/base",
            "_view_module_version": "1.2.0",
            "_view_name": "StyleView",
            "bar_color": null,
            "description_width": ""
          }
        },
        "97fcfdc9246b4f59a23754b3e31f00a3": {
          "model_module": "@jupyter-widgets/base",
          "model_name": "LayoutModel",
          "model_module_version": "1.2.0",
          "state": {
            "_model_module": "@jupyter-widgets/base",
            "_model_module_version": "1.2.0",
            "_model_name": "LayoutModel",
            "_view_count": null,
            "_view_module": "@jupyter-widgets/base",
            "_view_module_version": "1.2.0",
            "_view_name": "LayoutView",
            "align_content": null,
            "align_items": null,
            "align_self": null,
            "border": null,
            "bottom": null,
            "display": null,
            "flex": null,
            "flex_flow": null,
            "grid_area": null,
            "grid_auto_columns": null,
            "grid_auto_flow": null,
            "grid_auto_rows": null,
            "grid_column": null,
            "grid_gap": null,
            "grid_row": null,
            "grid_template_areas": null,
            "grid_template_columns": null,
            "grid_template_rows": null,
            "height": null,
            "justify_content": null,
            "justify_items": null,
            "left": null,
            "margin": null,
            "max_height": null,
            "max_width": null,
            "min_height": null,
            "min_width": null,
            "object_fit": null,
            "object_position": null,
            "order": null,
            "overflow": null,
            "overflow_x": null,
            "overflow_y": null,
            "padding": null,
            "right": null,
            "top": null,
            "visibility": null,
            "width": null
          }
        },
        "28d229c4266c4490a5c83ecd33df2b4e": {
          "model_module": "@jupyter-widgets/controls",
          "model_name": "DescriptionStyleModel",
          "model_module_version": "1.5.0",
          "state": {
            "_model_module": "@jupyter-widgets/controls",
            "_model_module_version": "1.5.0",
            "_model_name": "DescriptionStyleModel",
            "_view_count": null,
            "_view_module": "@jupyter-widgets/base",
            "_view_module_version": "1.2.0",
            "_view_name": "StyleView",
            "description_width": ""
          }
        },
        "df7262f327234f46b50daed30ca8f871": {
          "model_module": "@jupyter-widgets/controls",
          "model_name": "HBoxModel",
          "model_module_version": "1.5.0",
          "state": {
            "_dom_classes": [],
            "_model_module": "@jupyter-widgets/controls",
            "_model_module_version": "1.5.0",
            "_model_name": "HBoxModel",
            "_view_count": null,
            "_view_module": "@jupyter-widgets/controls",
            "_view_module_version": "1.5.0",
            "_view_name": "HBoxView",
            "box_style": "",
            "children": [
              "IPY_MODEL_b01036452387459e969ec9b71685720d",
              "IPY_MODEL_2ac8e374fb904aaeb1387564de7788eb",
              "IPY_MODEL_b63db281d2ab4d56ac3d1742e8321486"
            ],
            "layout": "IPY_MODEL_f14644de06554964aa1339f50691b191"
          }
        },
        "b01036452387459e969ec9b71685720d": {
          "model_module": "@jupyter-widgets/controls",
          "model_name": "HTMLModel",
          "model_module_version": "1.5.0",
          "state": {
            "_dom_classes": [],
            "_model_module": "@jupyter-widgets/controls",
            "_model_module_version": "1.5.0",
            "_model_name": "HTMLModel",
            "_view_count": null,
            "_view_module": "@jupyter-widgets/controls",
            "_view_module_version": "1.5.0",
            "_view_name": "HTMLView",
            "description": "",
            "description_tooltip": null,
            "layout": "IPY_MODEL_f7e51d7f42be4441a5bbcf0f6e9dc7dd",
            "placeholder": "​",
            "style": "IPY_MODEL_91a9270ac73a4fc290beeb23837a58a7",
            "value": "tokenizer.json: 100%"
          }
        },
        "2ac8e374fb904aaeb1387564de7788eb": {
          "model_module": "@jupyter-widgets/controls",
          "model_name": "FloatProgressModel",
          "model_module_version": "1.5.0",
          "state": {
            "_dom_classes": [],
            "_model_module": "@jupyter-widgets/controls",
            "_model_module_version": "1.5.0",
            "_model_name": "FloatProgressModel",
            "_view_count": null,
            "_view_module": "@jupyter-widgets/controls",
            "_view_module_version": "1.5.0",
            "_view_name": "ProgressView",
            "bar_style": "success",
            "description": "",
            "description_tooltip": null,
            "layout": "IPY_MODEL_d79e3e79393b48f696c6eb92a996672b",
            "max": 466062,
            "min": 0,
            "orientation": "horizontal",
            "style": "IPY_MODEL_a1bfc4c89e054932817bbd6c1e2450b9",
            "value": 466062
          }
        },
        "b63db281d2ab4d56ac3d1742e8321486": {
          "model_module": "@jupyter-widgets/controls",
          "model_name": "HTMLModel",
          "model_module_version": "1.5.0",
          "state": {
            "_dom_classes": [],
            "_model_module": "@jupyter-widgets/controls",
            "_model_module_version": "1.5.0",
            "_model_name": "HTMLModel",
            "_view_count": null,
            "_view_module": "@jupyter-widgets/controls",
            "_view_module_version": "1.5.0",
            "_view_name": "HTMLView",
            "description": "",
            "description_tooltip": null,
            "layout": "IPY_MODEL_31fb3763e9294836b8e8923ec947bedb",
            "placeholder": "​",
            "style": "IPY_MODEL_99c00c92664642ab82c153de777d1b60",
            "value": " 466k/466k [00:00&lt;00:00, 3.37MB/s]"
          }
        },
        "f14644de06554964aa1339f50691b191": {
          "model_module": "@jupyter-widgets/base",
          "model_name": "LayoutModel",
          "model_module_version": "1.2.0",
          "state": {
            "_model_module": "@jupyter-widgets/base",
            "_model_module_version": "1.2.0",
            "_model_name": "LayoutModel",
            "_view_count": null,
            "_view_module": "@jupyter-widgets/base",
            "_view_module_version": "1.2.0",
            "_view_name": "LayoutView",
            "align_content": null,
            "align_items": null,
            "align_self": null,
            "border": null,
            "bottom": null,
            "display": null,
            "flex": null,
            "flex_flow": null,
            "grid_area": null,
            "grid_auto_columns": null,
            "grid_auto_flow": null,
            "grid_auto_rows": null,
            "grid_column": null,
            "grid_gap": null,
            "grid_row": null,
            "grid_template_areas": null,
            "grid_template_columns": null,
            "grid_template_rows": null,
            "height": null,
            "justify_content": null,
            "justify_items": null,
            "left": null,
            "margin": null,
            "max_height": null,
            "max_width": null,
            "min_height": null,
            "min_width": null,
            "object_fit": null,
            "object_position": null,
            "order": null,
            "overflow": null,
            "overflow_x": null,
            "overflow_y": null,
            "padding": null,
            "right": null,
            "top": null,
            "visibility": null,
            "width": null
          }
        },
        "f7e51d7f42be4441a5bbcf0f6e9dc7dd": {
          "model_module": "@jupyter-widgets/base",
          "model_name": "LayoutModel",
          "model_module_version": "1.2.0",
          "state": {
            "_model_module": "@jupyter-widgets/base",
            "_model_module_version": "1.2.0",
            "_model_name": "LayoutModel",
            "_view_count": null,
            "_view_module": "@jupyter-widgets/base",
            "_view_module_version": "1.2.0",
            "_view_name": "LayoutView",
            "align_content": null,
            "align_items": null,
            "align_self": null,
            "border": null,
            "bottom": null,
            "display": null,
            "flex": null,
            "flex_flow": null,
            "grid_area": null,
            "grid_auto_columns": null,
            "grid_auto_flow": null,
            "grid_auto_rows": null,
            "grid_column": null,
            "grid_gap": null,
            "grid_row": null,
            "grid_template_areas": null,
            "grid_template_columns": null,
            "grid_template_rows": null,
            "height": null,
            "justify_content": null,
            "justify_items": null,
            "left": null,
            "margin": null,
            "max_height": null,
            "max_width": null,
            "min_height": null,
            "min_width": null,
            "object_fit": null,
            "object_position": null,
            "order": null,
            "overflow": null,
            "overflow_x": null,
            "overflow_y": null,
            "padding": null,
            "right": null,
            "top": null,
            "visibility": null,
            "width": null
          }
        },
        "91a9270ac73a4fc290beeb23837a58a7": {
          "model_module": "@jupyter-widgets/controls",
          "model_name": "DescriptionStyleModel",
          "model_module_version": "1.5.0",
          "state": {
            "_model_module": "@jupyter-widgets/controls",
            "_model_module_version": "1.5.0",
            "_model_name": "DescriptionStyleModel",
            "_view_count": null,
            "_view_module": "@jupyter-widgets/base",
            "_view_module_version": "1.2.0",
            "_view_name": "StyleView",
            "description_width": ""
          }
        },
        "d79e3e79393b48f696c6eb92a996672b": {
          "model_module": "@jupyter-widgets/base",
          "model_name": "LayoutModel",
          "model_module_version": "1.2.0",
          "state": {
            "_model_module": "@jupyter-widgets/base",
            "_model_module_version": "1.2.0",
            "_model_name": "LayoutModel",
            "_view_count": null,
            "_view_module": "@jupyter-widgets/base",
            "_view_module_version": "1.2.0",
            "_view_name": "LayoutView",
            "align_content": null,
            "align_items": null,
            "align_self": null,
            "border": null,
            "bottom": null,
            "display": null,
            "flex": null,
            "flex_flow": null,
            "grid_area": null,
            "grid_auto_columns": null,
            "grid_auto_flow": null,
            "grid_auto_rows": null,
            "grid_column": null,
            "grid_gap": null,
            "grid_row": null,
            "grid_template_areas": null,
            "grid_template_columns": null,
            "grid_template_rows": null,
            "height": null,
            "justify_content": null,
            "justify_items": null,
            "left": null,
            "margin": null,
            "max_height": null,
            "max_width": null,
            "min_height": null,
            "min_width": null,
            "object_fit": null,
            "object_position": null,
            "order": null,
            "overflow": null,
            "overflow_x": null,
            "overflow_y": null,
            "padding": null,
            "right": null,
            "top": null,
            "visibility": null,
            "width": null
          }
        },
        "a1bfc4c89e054932817bbd6c1e2450b9": {
          "model_module": "@jupyter-widgets/controls",
          "model_name": "ProgressStyleModel",
          "model_module_version": "1.5.0",
          "state": {
            "_model_module": "@jupyter-widgets/controls",
            "_model_module_version": "1.5.0",
            "_model_name": "ProgressStyleModel",
            "_view_count": null,
            "_view_module": "@jupyter-widgets/base",
            "_view_module_version": "1.2.0",
            "_view_name": "StyleView",
            "bar_color": null,
            "description_width": ""
          }
        },
        "31fb3763e9294836b8e8923ec947bedb": {
          "model_module": "@jupyter-widgets/base",
          "model_name": "LayoutModel",
          "model_module_version": "1.2.0",
          "state": {
            "_model_module": "@jupyter-widgets/base",
            "_model_module_version": "1.2.0",
            "_model_name": "LayoutModel",
            "_view_count": null,
            "_view_module": "@jupyter-widgets/base",
            "_view_module_version": "1.2.0",
            "_view_name": "LayoutView",
            "align_content": null,
            "align_items": null,
            "align_self": null,
            "border": null,
            "bottom": null,
            "display": null,
            "flex": null,
            "flex_flow": null,
            "grid_area": null,
            "grid_auto_columns": null,
            "grid_auto_flow": null,
            "grid_auto_rows": null,
            "grid_column": null,
            "grid_gap": null,
            "grid_row": null,
            "grid_template_areas": null,
            "grid_template_columns": null,
            "grid_template_rows": null,
            "height": null,
            "justify_content": null,
            "justify_items": null,
            "left": null,
            "margin": null,
            "max_height": null,
            "max_width": null,
            "min_height": null,
            "min_width": null,
            "object_fit": null,
            "object_position": null,
            "order": null,
            "overflow": null,
            "overflow_x": null,
            "overflow_y": null,
            "padding": null,
            "right": null,
            "top": null,
            "visibility": null,
            "width": null
          }
        },
        "99c00c92664642ab82c153de777d1b60": {
          "model_module": "@jupyter-widgets/controls",
          "model_name": "DescriptionStyleModel",
          "model_module_version": "1.5.0",
          "state": {
            "_model_module": "@jupyter-widgets/controls",
            "_model_module_version": "1.5.0",
            "_model_name": "DescriptionStyleModel",
            "_view_count": null,
            "_view_module": "@jupyter-widgets/base",
            "_view_module_version": "1.2.0",
            "_view_name": "StyleView",
            "description_width": ""
          }
        },
        "c312846ed70744bc84b18e2c8ed485a5": {
          "model_module": "@jupyter-widgets/controls",
          "model_name": "HBoxModel",
          "model_module_version": "1.5.0",
          "state": {
            "_dom_classes": [],
            "_model_module": "@jupyter-widgets/controls",
            "_model_module_version": "1.5.0",
            "_model_name": "HBoxModel",
            "_view_count": null,
            "_view_module": "@jupyter-widgets/controls",
            "_view_module_version": "1.5.0",
            "_view_name": "HBoxView",
            "box_style": "",
            "children": [
              "IPY_MODEL_a46d2e24599646bcb6b0bb80cbeb120c",
              "IPY_MODEL_7241fe25158c41eea4587952390bdb42",
              "IPY_MODEL_15b41be8f08646f9aa7f8b7bc536014b"
            ],
            "layout": "IPY_MODEL_63665a5a0142492b83e376ba68ed6489"
          }
        },
        "a46d2e24599646bcb6b0bb80cbeb120c": {
          "model_module": "@jupyter-widgets/controls",
          "model_name": "HTMLModel",
          "model_module_version": "1.5.0",
          "state": {
            "_dom_classes": [],
            "_model_module": "@jupyter-widgets/controls",
            "_model_module_version": "1.5.0",
            "_model_name": "HTMLModel",
            "_view_count": null,
            "_view_module": "@jupyter-widgets/controls",
            "_view_module_version": "1.5.0",
            "_view_name": "HTMLView",
            "description": "",
            "description_tooltip": null,
            "layout": "IPY_MODEL_b631bb13a81b41e0a3fb284bfc10116e",
            "placeholder": "​",
            "style": "IPY_MODEL_b73802f8328b4df3b2b1dea86b2ce212",
            "value": "config.json: 100%"
          }
        },
        "7241fe25158c41eea4587952390bdb42": {
          "model_module": "@jupyter-widgets/controls",
          "model_name": "FloatProgressModel",
          "model_module_version": "1.5.0",
          "state": {
            "_dom_classes": [],
            "_model_module": "@jupyter-widgets/controls",
            "_model_module_version": "1.5.0",
            "_model_name": "FloatProgressModel",
            "_view_count": null,
            "_view_module": "@jupyter-widgets/controls",
            "_view_module_version": "1.5.0",
            "_view_name": "ProgressView",
            "bar_style": "success",
            "description": "",
            "description_tooltip": null,
            "layout": "IPY_MODEL_8a27e04d41f64404ae043b17e3581b62",
            "max": 570,
            "min": 0,
            "orientation": "horizontal",
            "style": "IPY_MODEL_da5af254d8bf47cbb18bcdc6c529a141",
            "value": 570
          }
        },
        "15b41be8f08646f9aa7f8b7bc536014b": {
          "model_module": "@jupyter-widgets/controls",
          "model_name": "HTMLModel",
          "model_module_version": "1.5.0",
          "state": {
            "_dom_classes": [],
            "_model_module": "@jupyter-widgets/controls",
            "_model_module_version": "1.5.0",
            "_model_name": "HTMLModel",
            "_view_count": null,
            "_view_module": "@jupyter-widgets/controls",
            "_view_module_version": "1.5.0",
            "_view_name": "HTMLView",
            "description": "",
            "description_tooltip": null,
            "layout": "IPY_MODEL_23f9747c2cf84b9098f928e738355b51",
            "placeholder": "​",
            "style": "IPY_MODEL_0051169eadff489bb852f756af398dde",
            "value": " 570/570 [00:00&lt;00:00, 12.1kB/s]"
          }
        },
        "63665a5a0142492b83e376ba68ed6489": {
          "model_module": "@jupyter-widgets/base",
          "model_name": "LayoutModel",
          "model_module_version": "1.2.0",
          "state": {
            "_model_module": "@jupyter-widgets/base",
            "_model_module_version": "1.2.0",
            "_model_name": "LayoutModel",
            "_view_count": null,
            "_view_module": "@jupyter-widgets/base",
            "_view_module_version": "1.2.0",
            "_view_name": "LayoutView",
            "align_content": null,
            "align_items": null,
            "align_self": null,
            "border": null,
            "bottom": null,
            "display": null,
            "flex": null,
            "flex_flow": null,
            "grid_area": null,
            "grid_auto_columns": null,
            "grid_auto_flow": null,
            "grid_auto_rows": null,
            "grid_column": null,
            "grid_gap": null,
            "grid_row": null,
            "grid_template_areas": null,
            "grid_template_columns": null,
            "grid_template_rows": null,
            "height": null,
            "justify_content": null,
            "justify_items": null,
            "left": null,
            "margin": null,
            "max_height": null,
            "max_width": null,
            "min_height": null,
            "min_width": null,
            "object_fit": null,
            "object_position": null,
            "order": null,
            "overflow": null,
            "overflow_x": null,
            "overflow_y": null,
            "padding": null,
            "right": null,
            "top": null,
            "visibility": null,
            "width": null
          }
        },
        "b631bb13a81b41e0a3fb284bfc10116e": {
          "model_module": "@jupyter-widgets/base",
          "model_name": "LayoutModel",
          "model_module_version": "1.2.0",
          "state": {
            "_model_module": "@jupyter-widgets/base",
            "_model_module_version": "1.2.0",
            "_model_name": "LayoutModel",
            "_view_count": null,
            "_view_module": "@jupyter-widgets/base",
            "_view_module_version": "1.2.0",
            "_view_name": "LayoutView",
            "align_content": null,
            "align_items": null,
            "align_self": null,
            "border": null,
            "bottom": null,
            "display": null,
            "flex": null,
            "flex_flow": null,
            "grid_area": null,
            "grid_auto_columns": null,
            "grid_auto_flow": null,
            "grid_auto_rows": null,
            "grid_column": null,
            "grid_gap": null,
            "grid_row": null,
            "grid_template_areas": null,
            "grid_template_columns": null,
            "grid_template_rows": null,
            "height": null,
            "justify_content": null,
            "justify_items": null,
            "left": null,
            "margin": null,
            "max_height": null,
            "max_width": null,
            "min_height": null,
            "min_width": null,
            "object_fit": null,
            "object_position": null,
            "order": null,
            "overflow": null,
            "overflow_x": null,
            "overflow_y": null,
            "padding": null,
            "right": null,
            "top": null,
            "visibility": null,
            "width": null
          }
        },
        "b73802f8328b4df3b2b1dea86b2ce212": {
          "model_module": "@jupyter-widgets/controls",
          "model_name": "DescriptionStyleModel",
          "model_module_version": "1.5.0",
          "state": {
            "_model_module": "@jupyter-widgets/controls",
            "_model_module_version": "1.5.0",
            "_model_name": "DescriptionStyleModel",
            "_view_count": null,
            "_view_module": "@jupyter-widgets/base",
            "_view_module_version": "1.2.0",
            "_view_name": "StyleView",
            "description_width": ""
          }
        },
        "8a27e04d41f64404ae043b17e3581b62": {
          "model_module": "@jupyter-widgets/base",
          "model_name": "LayoutModel",
          "model_module_version": "1.2.0",
          "state": {
            "_model_module": "@jupyter-widgets/base",
            "_model_module_version": "1.2.0",
            "_model_name": "LayoutModel",
            "_view_count": null,
            "_view_module": "@jupyter-widgets/base",
            "_view_module_version": "1.2.0",
            "_view_name": "LayoutView",
            "align_content": null,
            "align_items": null,
            "align_self": null,
            "border": null,
            "bottom": null,
            "display": null,
            "flex": null,
            "flex_flow": null,
            "grid_area": null,
            "grid_auto_columns": null,
            "grid_auto_flow": null,
            "grid_auto_rows": null,
            "grid_column": null,
            "grid_gap": null,
            "grid_row": null,
            "grid_template_areas": null,
            "grid_template_columns": null,
            "grid_template_rows": null,
            "height": null,
            "justify_content": null,
            "justify_items": null,
            "left": null,
            "margin": null,
            "max_height": null,
            "max_width": null,
            "min_height": null,
            "min_width": null,
            "object_fit": null,
            "object_position": null,
            "order": null,
            "overflow": null,
            "overflow_x": null,
            "overflow_y": null,
            "padding": null,
            "right": null,
            "top": null,
            "visibility": null,
            "width": null
          }
        },
        "da5af254d8bf47cbb18bcdc6c529a141": {
          "model_module": "@jupyter-widgets/controls",
          "model_name": "ProgressStyleModel",
          "model_module_version": "1.5.0",
          "state": {
            "_model_module": "@jupyter-widgets/controls",
            "_model_module_version": "1.5.0",
            "_model_name": "ProgressStyleModel",
            "_view_count": null,
            "_view_module": "@jupyter-widgets/base",
            "_view_module_version": "1.2.0",
            "_view_name": "StyleView",
            "bar_color": null,
            "description_width": ""
          }
        },
        "23f9747c2cf84b9098f928e738355b51": {
          "model_module": "@jupyter-widgets/base",
          "model_name": "LayoutModel",
          "model_module_version": "1.2.0",
          "state": {
            "_model_module": "@jupyter-widgets/base",
            "_model_module_version": "1.2.0",
            "_model_name": "LayoutModel",
            "_view_count": null,
            "_view_module": "@jupyter-widgets/base",
            "_view_module_version": "1.2.0",
            "_view_name": "LayoutView",
            "align_content": null,
            "align_items": null,
            "align_self": null,
            "border": null,
            "bottom": null,
            "display": null,
            "flex": null,
            "flex_flow": null,
            "grid_area": null,
            "grid_auto_columns": null,
            "grid_auto_flow": null,
            "grid_auto_rows": null,
            "grid_column": null,
            "grid_gap": null,
            "grid_row": null,
            "grid_template_areas": null,
            "grid_template_columns": null,
            "grid_template_rows": null,
            "height": null,
            "justify_content": null,
            "justify_items": null,
            "left": null,
            "margin": null,
            "max_height": null,
            "max_width": null,
            "min_height": null,
            "min_width": null,
            "object_fit": null,
            "object_position": null,
            "order": null,
            "overflow": null,
            "overflow_x": null,
            "overflow_y": null,
            "padding": null,
            "right": null,
            "top": null,
            "visibility": null,
            "width": null
          }
        },
        "0051169eadff489bb852f756af398dde": {
          "model_module": "@jupyter-widgets/controls",
          "model_name": "DescriptionStyleModel",
          "model_module_version": "1.5.0",
          "state": {
            "_model_module": "@jupyter-widgets/controls",
            "_model_module_version": "1.5.0",
            "_model_name": "DescriptionStyleModel",
            "_view_count": null,
            "_view_module": "@jupyter-widgets/base",
            "_view_module_version": "1.2.0",
            "_view_name": "StyleView",
            "description_width": ""
          }
        },
        "ea92e7decbea4d68a9ba33cc7d234f7e": {
          "model_module": "@jupyter-widgets/controls",
          "model_name": "HBoxModel",
          "model_module_version": "1.5.0",
          "state": {
            "_dom_classes": [],
            "_model_module": "@jupyter-widgets/controls",
            "_model_module_version": "1.5.0",
            "_model_name": "HBoxModel",
            "_view_count": null,
            "_view_module": "@jupyter-widgets/controls",
            "_view_module_version": "1.5.0",
            "_view_name": "HBoxView",
            "box_style": "",
            "children": [
              "IPY_MODEL_cbb59fd4c15f46d8af9a56f424484678",
              "IPY_MODEL_a103e084e8bc4951ad95ae3f03617a16",
              "IPY_MODEL_af38c7cc24164347ab89a87ac5ec0158"
            ],
            "layout": "IPY_MODEL_dbc4f7a27c964a3584c55144504e423f"
          }
        },
        "cbb59fd4c15f46d8af9a56f424484678": {
          "model_module": "@jupyter-widgets/controls",
          "model_name": "HTMLModel",
          "model_module_version": "1.5.0",
          "state": {
            "_dom_classes": [],
            "_model_module": "@jupyter-widgets/controls",
            "_model_module_version": "1.5.0",
            "_model_name": "HTMLModel",
            "_view_count": null,
            "_view_module": "@jupyter-widgets/controls",
            "_view_module_version": "1.5.0",
            "_view_name": "HTMLView",
            "description": "",
            "description_tooltip": null,
            "layout": "IPY_MODEL_c26135529b5847438c1321dd588dc993",
            "placeholder": "​",
            "style": "IPY_MODEL_2066c3ad823646159026af4c483ca51d",
            "value": "model.safetensors: 100%"
          }
        },
        "a103e084e8bc4951ad95ae3f03617a16": {
          "model_module": "@jupyter-widgets/controls",
          "model_name": "FloatProgressModel",
          "model_module_version": "1.5.0",
          "state": {
            "_dom_classes": [],
            "_model_module": "@jupyter-widgets/controls",
            "_model_module_version": "1.5.0",
            "_model_name": "FloatProgressModel",
            "_view_count": null,
            "_view_module": "@jupyter-widgets/controls",
            "_view_module_version": "1.5.0",
            "_view_name": "ProgressView",
            "bar_style": "success",
            "description": "",
            "description_tooltip": null,
            "layout": "IPY_MODEL_7d7fc3480f4d4889bbe38f0a0e0ebc97",
            "max": 440449768,
            "min": 0,
            "orientation": "horizontal",
            "style": "IPY_MODEL_cfc3d9557dc14622a706a969904be4a0",
            "value": 440449768
          }
        },
        "af38c7cc24164347ab89a87ac5ec0158": {
          "model_module": "@jupyter-widgets/controls",
          "model_name": "HTMLModel",
          "model_module_version": "1.5.0",
          "state": {
            "_dom_classes": [],
            "_model_module": "@jupyter-widgets/controls",
            "_model_module_version": "1.5.0",
            "_model_name": "HTMLModel",
            "_view_count": null,
            "_view_module": "@jupyter-widgets/controls",
            "_view_module_version": "1.5.0",
            "_view_name": "HTMLView",
            "description": "",
            "description_tooltip": null,
            "layout": "IPY_MODEL_c5b47d33a1ba40ffbaba5c882dc276ae",
            "placeholder": "​",
            "style": "IPY_MODEL_8e66f971f10c4a60a676490673cad045",
            "value": " 440M/440M [00:06&lt;00:00, 29.8MB/s]"
          }
        },
        "dbc4f7a27c964a3584c55144504e423f": {
          "model_module": "@jupyter-widgets/base",
          "model_name": "LayoutModel",
          "model_module_version": "1.2.0",
          "state": {
            "_model_module": "@jupyter-widgets/base",
            "_model_module_version": "1.2.0",
            "_model_name": "LayoutModel",
            "_view_count": null,
            "_view_module": "@jupyter-widgets/base",
            "_view_module_version": "1.2.0",
            "_view_name": "LayoutView",
            "align_content": null,
            "align_items": null,
            "align_self": null,
            "border": null,
            "bottom": null,
            "display": null,
            "flex": null,
            "flex_flow": null,
            "grid_area": null,
            "grid_auto_columns": null,
            "grid_auto_flow": null,
            "grid_auto_rows": null,
            "grid_column": null,
            "grid_gap": null,
            "grid_row": null,
            "grid_template_areas": null,
            "grid_template_columns": null,
            "grid_template_rows": null,
            "height": null,
            "justify_content": null,
            "justify_items": null,
            "left": null,
            "margin": null,
            "max_height": null,
            "max_width": null,
            "min_height": null,
            "min_width": null,
            "object_fit": null,
            "object_position": null,
            "order": null,
            "overflow": null,
            "overflow_x": null,
            "overflow_y": null,
            "padding": null,
            "right": null,
            "top": null,
            "visibility": null,
            "width": null
          }
        },
        "c26135529b5847438c1321dd588dc993": {
          "model_module": "@jupyter-widgets/base",
          "model_name": "LayoutModel",
          "model_module_version": "1.2.0",
          "state": {
            "_model_module": "@jupyter-widgets/base",
            "_model_module_version": "1.2.0",
            "_model_name": "LayoutModel",
            "_view_count": null,
            "_view_module": "@jupyter-widgets/base",
            "_view_module_version": "1.2.0",
            "_view_name": "LayoutView",
            "align_content": null,
            "align_items": null,
            "align_self": null,
            "border": null,
            "bottom": null,
            "display": null,
            "flex": null,
            "flex_flow": null,
            "grid_area": null,
            "grid_auto_columns": null,
            "grid_auto_flow": null,
            "grid_auto_rows": null,
            "grid_column": null,
            "grid_gap": null,
            "grid_row": null,
            "grid_template_areas": null,
            "grid_template_columns": null,
            "grid_template_rows": null,
            "height": null,
            "justify_content": null,
            "justify_items": null,
            "left": null,
            "margin": null,
            "max_height": null,
            "max_width": null,
            "min_height": null,
            "min_width": null,
            "object_fit": null,
            "object_position": null,
            "order": null,
            "overflow": null,
            "overflow_x": null,
            "overflow_y": null,
            "padding": null,
            "right": null,
            "top": null,
            "visibility": null,
            "width": null
          }
        },
        "2066c3ad823646159026af4c483ca51d": {
          "model_module": "@jupyter-widgets/controls",
          "model_name": "DescriptionStyleModel",
          "model_module_version": "1.5.0",
          "state": {
            "_model_module": "@jupyter-widgets/controls",
            "_model_module_version": "1.5.0",
            "_model_name": "DescriptionStyleModel",
            "_view_count": null,
            "_view_module": "@jupyter-widgets/base",
            "_view_module_version": "1.2.0",
            "_view_name": "StyleView",
            "description_width": ""
          }
        },
        "7d7fc3480f4d4889bbe38f0a0e0ebc97": {
          "model_module": "@jupyter-widgets/base",
          "model_name": "LayoutModel",
          "model_module_version": "1.2.0",
          "state": {
            "_model_module": "@jupyter-widgets/base",
            "_model_module_version": "1.2.0",
            "_model_name": "LayoutModel",
            "_view_count": null,
            "_view_module": "@jupyter-widgets/base",
            "_view_module_version": "1.2.0",
            "_view_name": "LayoutView",
            "align_content": null,
            "align_items": null,
            "align_self": null,
            "border": null,
            "bottom": null,
            "display": null,
            "flex": null,
            "flex_flow": null,
            "grid_area": null,
            "grid_auto_columns": null,
            "grid_auto_flow": null,
            "grid_auto_rows": null,
            "grid_column": null,
            "grid_gap": null,
            "grid_row": null,
            "grid_template_areas": null,
            "grid_template_columns": null,
            "grid_template_rows": null,
            "height": null,
            "justify_content": null,
            "justify_items": null,
            "left": null,
            "margin": null,
            "max_height": null,
            "max_width": null,
            "min_height": null,
            "min_width": null,
            "object_fit": null,
            "object_position": null,
            "order": null,
            "overflow": null,
            "overflow_x": null,
            "overflow_y": null,
            "padding": null,
            "right": null,
            "top": null,
            "visibility": null,
            "width": null
          }
        },
        "cfc3d9557dc14622a706a969904be4a0": {
          "model_module": "@jupyter-widgets/controls",
          "model_name": "ProgressStyleModel",
          "model_module_version": "1.5.0",
          "state": {
            "_model_module": "@jupyter-widgets/controls",
            "_model_module_version": "1.5.0",
            "_model_name": "ProgressStyleModel",
            "_view_count": null,
            "_view_module": "@jupyter-widgets/base",
            "_view_module_version": "1.2.0",
            "_view_name": "StyleView",
            "bar_color": null,
            "description_width": ""
          }
        },
        "c5b47d33a1ba40ffbaba5c882dc276ae": {
          "model_module": "@jupyter-widgets/base",
          "model_name": "LayoutModel",
          "model_module_version": "1.2.0",
          "state": {
            "_model_module": "@jupyter-widgets/base",
            "_model_module_version": "1.2.0",
            "_model_name": "LayoutModel",
            "_view_count": null,
            "_view_module": "@jupyter-widgets/base",
            "_view_module_version": "1.2.0",
            "_view_name": "LayoutView",
            "align_content": null,
            "align_items": null,
            "align_self": null,
            "border": null,
            "bottom": null,
            "display": null,
            "flex": null,
            "flex_flow": null,
            "grid_area": null,
            "grid_auto_columns": null,
            "grid_auto_flow": null,
            "grid_auto_rows": null,
            "grid_column": null,
            "grid_gap": null,
            "grid_row": null,
            "grid_template_areas": null,
            "grid_template_columns": null,
            "grid_template_rows": null,
            "height": null,
            "justify_content": null,
            "justify_items": null,
            "left": null,
            "margin": null,
            "max_height": null,
            "max_width": null,
            "min_height": null,
            "min_width": null,
            "object_fit": null,
            "object_position": null,
            "order": null,
            "overflow": null,
            "overflow_x": null,
            "overflow_y": null,
            "padding": null,
            "right": null,
            "top": null,
            "visibility": null,
            "width": null
          }
        },
        "8e66f971f10c4a60a676490673cad045": {
          "model_module": "@jupyter-widgets/controls",
          "model_name": "DescriptionStyleModel",
          "model_module_version": "1.5.0",
          "state": {
            "_model_module": "@jupyter-widgets/controls",
            "_model_module_version": "1.5.0",
            "_model_name": "DescriptionStyleModel",
            "_view_count": null,
            "_view_module": "@jupyter-widgets/base",
            "_view_module_version": "1.2.0",
            "_view_name": "StyleView",
            "description_width": ""
          }
        }
      }
    }
  },
  "nbformat": 4,
  "nbformat_minor": 0
}